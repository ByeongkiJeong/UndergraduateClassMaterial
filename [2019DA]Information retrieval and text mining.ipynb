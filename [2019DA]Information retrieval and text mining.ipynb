{
 "cells": [
  {
   "cell_type": "markdown",
   "metadata": {},
   "source": [
    "# 2019 Data analytics Lab @Dept. of Industrial engineering\n",
    "## Information retrieval and text mining\n",
    "\n",
    "### Contents\n",
    "#### 1. Text pre-processing technique\n",
    " - 대소문자 변환\n",
    " - 숫자, 특수문자, 공백 제거\n",
    " - 키워드 추출\n",
    " - Tokenize\n",
    " - 불용어 제거\n",
    " - Stemming\n",
    " - Term frequency matrix\n",
    "\n",
    "#### 2. Text analytics\n",
    " - Document similarity\n",
    " - Generalized VSM \n",
    " - Social network analysis\n",
    " - Assosiation rule mining\n",
    " - Sentiment analysis\n",
    "\n",
    "### Used library\n",
    " - SQL Alchemy: DB와 관련된 다양한 작업을 지원하는 라이브러리 (https://www.sqlalchemy.org/)\n",
    " - Pandas: 데이터분석용 툴킷, Table 형태로 데이터를 다룰 수 있고 빨라서 널리사용됨 (https://pandas.pydata.org) \n",
    " - Sci-kit learn: Machine learning과 관련된 대부분의 모듈이 구축되어 있음 (http://scikit-learn.org)\n",
    " - Matplotlib: Plot을 그릴때 가장 널리 사용되는 라이브러리 (https://matplotlib.org/)\n",
    " - NetworkX: 네트워크관련 다양한 작업을 지원하는 패키지 (https://networkx.github.io/)\n",
    " - KoNLPy: 한국어 자연어처리를 위한 도구들을 통합해놓은 Wrapper (http://konlpy.org/)\n",
    " - re: 정규식 처리를 위한 Python 내부 패키지 (https://docs.python.org/3/library/re.html)\n",
    " - nltk: 자연어 처리 툴킷, 가장 범용적으로 사용되는 라이브러리 (https://www.nltk.org)\n",
    " - rake-nltk: 키워드 추출 알고리즘 Rake를 지원하는 라이브러리 (https://pypi.org/project/rake-nltk/)\n",
    " - spaCy: 자연어 처리 라이브러리, 특히 딥러닝과의 연계에 특화 (https://spacy.io/)\n",
    " - mlxtend: Machine learning 라이브러리 (http://rasbt.github.io/mlxtend/)\n",
    " \n",
    "### Data\n",
    "- 개인과제로 제공된 특허데이터 중에서, 초록 100개를 무작위 추출하여 사용함  \n",
    "- Pandas를 이용하면 csv, xls 등의 파일을 읽을 수 도 있고, sql로부터 자료를 직접 가져올 수도 있음\n",
    "- 본 예제에서는 sql에서 직접 가져옴"
   ]
  },
  {
   "cell_type": "code",
   "execution_count": 1,
   "metadata": {},
   "outputs": [
    {
     "name": "stderr",
     "output_type": "stream",
     "text": [
      "C:\\Users\\user\\Anaconda3\\envs\\main\\lib\\site-packages\\pymysql\\cursors.py:170: Warning: (1366, \"Incorrect string value: '\\\\xB4\\\\xEB\\\\xC7\\\\xD1\\\\xB9\\\\xCE...' for column 'VARIABLE_VALUE' at row 533\")\n",
      "  result = self._query(query)\n"
     ]
    }
   ],
   "source": [
    "import pandas as pd\n",
    "import sqlalchemy\n",
    "import pymysql\n",
    "pymysql.install_as_MySQLdb()\n",
    "\n",
    "conn = sqlalchemy.create_engine('mysql://your id:your pw@address:port/scheme', encoding='utf-8')\n",
    "\n",
    "query = \"SELECT * FROM abstract ORDER BY rand() LIMIT 100\"\n",
    "data = pd.read_sql(sql=query, con=conn)\n",
    "data.columns = ['app_num','abst']"
   ]
  },
  {
   "cell_type": "code",
   "execution_count": 2,
   "metadata": {},
   "outputs": [
    {
     "data": {
      "text/html": [
       "<div>\n",
       "<style scoped>\n",
       "    .dataframe tbody tr th:only-of-type {\n",
       "        vertical-align: middle;\n",
       "    }\n",
       "\n",
       "    .dataframe tbody tr th {\n",
       "        vertical-align: top;\n",
       "    }\n",
       "\n",
       "    .dataframe thead th {\n",
       "        text-align: right;\n",
       "    }\n",
       "</style>\n",
       "<table border=\"1\" class=\"dataframe\">\n",
       "  <thead>\n",
       "    <tr style=\"text-align: right;\">\n",
       "      <th></th>\n",
       "      <th>app_num</th>\n",
       "      <th>abst</th>\n",
       "    </tr>\n",
       "  </thead>\n",
       "  <tbody>\n",
       "    <tr>\n",
       "      <th>0</th>\n",
       "      <td>9777017</td>\n",
       "      <td>The present invention provides tricyclic fused...</td>\n",
       "    </tr>\n",
       "    <tr>\n",
       "      <th>1</th>\n",
       "      <td>9545947</td>\n",
       "      <td>A method for implementing a transition from a ...</td>\n",
       "    </tr>\n",
       "    <tr>\n",
       "      <th>2</th>\n",
       "      <td>9845261</td>\n",
       "      <td>A method of making a heat treated (HT) substan...</td>\n",
       "    </tr>\n",
       "    <tr>\n",
       "      <th>3</th>\n",
       "      <td>9618139</td>\n",
       "      <td>An apparatus for providing thermal and magneti...</td>\n",
       "    </tr>\n",
       "    <tr>\n",
       "      <th>4</th>\n",
       "      <td>9837246</td>\n",
       "      <td>A lamella for observation on a transmission el...</td>\n",
       "    </tr>\n",
       "  </tbody>\n",
       "</table>\n",
       "</div>"
      ],
      "text/plain": [
       "   app_num                                               abst\n",
       "0  9777017  The present invention provides tricyclic fused...\n",
       "1  9545947  A method for implementing a transition from a ...\n",
       "2  9845261  A method of making a heat treated (HT) substan...\n",
       "3  9618139  An apparatus for providing thermal and magneti...\n",
       "4  9837246  A lamella for observation on a transmission el..."
      ]
     },
     "execution_count": 2,
     "metadata": {},
     "output_type": "execute_result"
    }
   ],
   "source": [
    "data.head()"
   ]
  },
  {
   "cell_type": "markdown",
   "metadata": {},
   "source": [
    "#### 1. Text pre-processing technique  \n",
    "텍스트에서 노이즈를 제거하고, 활용이 가능한 행렬형태로 변형하는 기본적인 방법들을 다룸"
   ]
  },
  {
   "cell_type": "markdown",
   "metadata": {},
   "source": [
    "##### 1.1 대소문자 변환"
   ]
  },
  {
   "cell_type": "code",
   "execution_count": 3,
   "metadata": {},
   "outputs": [
    {
     "name": "stdout",
     "output_type": "stream",
     "text": [
      "The present invention provides tricyclic fused thiophene derivatives, as well as their compositions and methods of use, that modulate the activity of Janus kinase (JAK) and are useful in the treatment of diseases related to the activity of JAK including, for example, inflammatory disorders, autoimmune disorders, cancer, and other diseases.\n"
     ]
    }
   ],
   "source": [
    "sample_str = data.loc[0, 'abst']\n",
    "print(sample_str)"
   ]
  },
  {
   "cell_type": "code",
   "execution_count": 4,
   "metadata": {},
   "outputs": [
    {
     "name": "stdout",
     "output_type": "stream",
     "text": [
      "THE PRESENT INVENTION PROVIDES TRICYCLIC FUSED THIOPHENE DERIVATIVES, AS WELL AS THEIR COMPOSITIONS AND METHODS OF USE, THAT MODULATE THE ACTIVITY OF JANUS KINASE (JAK) AND ARE USEFUL IN THE TREATMENT OF DISEASES RELATED TO THE ACTIVITY OF JAK INCLUDING, FOR EXAMPLE, INFLAMMATORY DISORDERS, AUTOIMMUNE DISORDERS, CANCER, AND OTHER DISEASES.\n",
      "\n",
      "the present invention provides tricyclic fused thiophene derivatives, as well as their compositions and methods of use, that modulate the activity of janus kinase (jak) and are useful in the treatment of diseases related to the activity of jak including, for example, inflammatory disorders, autoimmune disorders, cancer, and other diseases.\n"
     ]
    }
   ],
   "source": [
    "# Python str 객체의 내장 기능을 이용하는 방법\n",
    "UPPER_STR = sample_str.upper()\n",
    "print(UPPER_STR)\n",
    "print()\n",
    "lower_str = sample_str.lower()\n",
    "print(lower_str)"
   ]
  },
  {
   "cell_type": "code",
   "execution_count": 5,
   "metadata": {},
   "outputs": [
    {
     "data": {
      "text/html": [
       "<div>\n",
       "<style scoped>\n",
       "    .dataframe tbody tr th:only-of-type {\n",
       "        vertical-align: middle;\n",
       "    }\n",
       "\n",
       "    .dataframe tbody tr th {\n",
       "        vertical-align: top;\n",
       "    }\n",
       "\n",
       "    .dataframe thead th {\n",
       "        text-align: right;\n",
       "    }\n",
       "</style>\n",
       "<table border=\"1\" class=\"dataframe\">\n",
       "  <thead>\n",
       "    <tr style=\"text-align: right;\">\n",
       "      <th></th>\n",
       "      <th>app_num</th>\n",
       "      <th>abst</th>\n",
       "    </tr>\n",
       "  </thead>\n",
       "  <tbody>\n",
       "    <tr>\n",
       "      <th>0</th>\n",
       "      <td>9777017</td>\n",
       "      <td>the present invention provides tricyclic fused...</td>\n",
       "    </tr>\n",
       "    <tr>\n",
       "      <th>1</th>\n",
       "      <td>9545947</td>\n",
       "      <td>a method for implementing a transition from a ...</td>\n",
       "    </tr>\n",
       "    <tr>\n",
       "      <th>2</th>\n",
       "      <td>9845261</td>\n",
       "      <td>a method of making a heat treated (ht) substan...</td>\n",
       "    </tr>\n",
       "    <tr>\n",
       "      <th>3</th>\n",
       "      <td>9618139</td>\n",
       "      <td>an apparatus for providing thermal and magneti...</td>\n",
       "    </tr>\n",
       "    <tr>\n",
       "      <th>4</th>\n",
       "      <td>9837246</td>\n",
       "      <td>a lamella for observation on a transmission el...</td>\n",
       "    </tr>\n",
       "  </tbody>\n",
       "</table>\n",
       "</div>"
      ],
      "text/plain": [
       "   app_num                                               abst\n",
       "0  9777017  the present invention provides tricyclic fused...\n",
       "1  9545947  a method for implementing a transition from a ...\n",
       "2  9845261  a method of making a heat treated (ht) substan...\n",
       "3  9618139  an apparatus for providing thermal and magneti...\n",
       "4  9837246  a lamella for observation on a transmission el..."
      ]
     },
     "execution_count": 5,
     "metadata": {},
     "output_type": "execute_result"
    }
   ],
   "source": [
    "# Pandas를 이용하여 대량 처리를 하는 방법\n",
    "data['abst'] = data['abst'].str.lower()\n",
    "data.head()"
   ]
  },
  {
   "cell_type": "markdown",
   "metadata": {},
   "source": [
    "##### 1.2 숫자, 특수문자, 공백 제거"
   ]
  },
  {
   "cell_type": "code",
   "execution_count": 6,
   "metadata": {},
   "outputs": [
    {
     "name": "stdout",
     "output_type": "stream",
     "text": [
      "WPXRPXSAWSKH\n",
      "hatawelcomeforihoneihoneandppleatcheriesinoreathisweekendopeyouenjoy\n",
      "4\n",
      "따뜻한고맙습니다\n",
      "What a 따뜻한 welcome for iPhone XR iPhone XS and Apple Watch Series 4 in Korea this weekend 고맙습니다 Hope you enjoy \n"
     ]
    }
   ],
   "source": [
    "# Python 내장 re 라이브러리를 이용하는 방법\n",
    "import re\n",
    "\n",
    "sample = \"What a 따뜻한 welcome for iPhone XR, iPhone XS and Apple Watch Series 4 in Korea this weekend! 고맙습니다! Hope you enjoy! 🎉\"\n",
    "UPPER = re.sub('[^A-Z]', '', sample)\n",
    "print(UPPER)\n",
    "lower = re.sub('[^a-z]', '', sample)\n",
    "print(lower)\n",
    "number = re.sub('[^0-9]', '', sample)\n",
    "print(number)\n",
    "korean = re.sub('[^가-힣]', '', sample)\n",
    "print(korean)\n",
    "result = re.sub('[^a-zA-Z0-9가-힣\\s]', '', sample)\n",
    "print(result)"
   ]
  },
  {
   "cell_type": "code",
   "execution_count": 7,
   "metadata": {},
   "outputs": [
    {
     "data": {
      "text/html": [
       "<div>\n",
       "<style scoped>\n",
       "    .dataframe tbody tr th:only-of-type {\n",
       "        vertical-align: middle;\n",
       "    }\n",
       "\n",
       "    .dataframe tbody tr th {\n",
       "        vertical-align: top;\n",
       "    }\n",
       "\n",
       "    .dataframe thead th {\n",
       "        text-align: right;\n",
       "    }\n",
       "</style>\n",
       "<table border=\"1\" class=\"dataframe\">\n",
       "  <thead>\n",
       "    <tr style=\"text-align: right;\">\n",
       "      <th></th>\n",
       "      <th>app_num</th>\n",
       "      <th>abst</th>\n",
       "    </tr>\n",
       "  </thead>\n",
       "  <tbody>\n",
       "    <tr>\n",
       "      <th>0</th>\n",
       "      <td>9777017</td>\n",
       "      <td>the present invention provides tricyclic fused...</td>\n",
       "    </tr>\n",
       "    <tr>\n",
       "      <th>1</th>\n",
       "      <td>9545947</td>\n",
       "      <td>a method for implementing a transition from a ...</td>\n",
       "    </tr>\n",
       "    <tr>\n",
       "      <th>2</th>\n",
       "      <td>9845261</td>\n",
       "      <td>a method of making a heat treated ht substanti...</td>\n",
       "    </tr>\n",
       "    <tr>\n",
       "      <th>3</th>\n",
       "      <td>9618139</td>\n",
       "      <td>an apparatus for providing thermal and magneti...</td>\n",
       "    </tr>\n",
       "    <tr>\n",
       "      <th>4</th>\n",
       "      <td>9837246</td>\n",
       "      <td>a lamella for observation on a transmission el...</td>\n",
       "    </tr>\n",
       "  </tbody>\n",
       "</table>\n",
       "</div>"
      ],
      "text/plain": [
       "   app_num                                               abst\n",
       "0  9777017  the present invention provides tricyclic fused...\n",
       "1  9545947  a method for implementing a transition from a ...\n",
       "2  9845261  a method of making a heat treated ht substanti...\n",
       "3  9618139  an apparatus for providing thermal and magneti...\n",
       "4  9837246  a lamella for observation on a transmission el..."
      ]
     },
     "execution_count": 7,
     "metadata": {},
     "output_type": "execute_result"
    }
   ],
   "source": [
    "# Pandas를 이용하여 대량 처리를 하는 방법\n",
    "data['abst'] = data['abst'].str.replace('[^a-zA-Z0-9가-힣\\s]', '', regex=True)\n",
    "data.head()"
   ]
  },
  {
   "cell_type": "markdown",
   "metadata": {},
   "source": [
    "##### 1.3 키워드 추출"
   ]
  },
  {
   "cell_type": "code",
   "execution_count": 8,
   "metadata": {},
   "outputs": [
    {
     "name": "stdout",
     "output_type": "stream",
     "text": [
      "[nltk_data] Downloading package stopwords to\n",
      "[nltk_data]     C:\\Users\\user\\AppData\\Roaming\\nltk_data...\n",
      "[nltk_data]   Package stopwords is already up-to-date!\n"
     ]
    },
    {
     "data": {
      "text/plain": [
       "True"
      ]
     },
     "execution_count": 8,
     "metadata": {},
     "output_type": "execute_result"
    }
   ],
   "source": [
    "# rake (Rapid automatic keyword extraction) 알고리즘을 이용한 방법\n",
    "import nltk\n",
    "nltk.download('stopwords') # rake_nltk를 사용하기 위해서 필요\n"
   ]
  },
  {
   "cell_type": "code",
   "execution_count": 9,
   "metadata": {},
   "outputs": [
    {
     "name": "stdout",
     "output_type": "stream",
     "text": [
      "['janus kinase', 'inflammatory disorders', 'autoimmune disorders', 'jak including', 'diseases related', 'jak', 'diseases', 'well', 'useful', 'use', 'treatment', 'modulate', 'methods', 'example', 'compositions', 'cancer', 'activity']\n"
     ]
    }
   ],
   "source": [
    "from rake_nltk import Rake\n",
    "extractor = Rake(language='english', min_length=1, max_length=3)\n",
    "extractor.extract_keywords_from_text(sample_str)\n",
    "keywords = extractor.get_ranked_phrases()\n",
    "\n",
    "print(keywords)"
   ]
  },
  {
   "cell_type": "code",
   "execution_count": 10,
   "metadata": {},
   "outputs": [
    {
     "name": "stdout",
     "output_type": "stream",
     "text": [
      "[The present invention, tricyclic fused thiophene derivatives, their compositions, methods, use, the activity, Janus kinase, JAK, the treatment, diseases, the activity, JAK, example, inflammatory disorders, autoimmune disorders, cancer, other diseases]\n"
     ]
    }
   ],
   "source": [
    "# spaCy를 이용하여 명사구(Noun phrase chunk)만 추출하는 방법\n",
    "import spacy\n",
    "extractor = spacy.load('en_core_web_sm')\n",
    "\n",
    "doc = extractor(sample_str)\n",
    "keywords = list(doc.noun_chunks)\n",
    "            \n",
    "print(keywords)"
   ]
  },
  {
   "cell_type": "code",
   "execution_count": 11,
   "metadata": {},
   "outputs": [
    {
     "name": "stderr",
     "output_type": "stream",
     "text": [
      "C:\\Users\\user\\Anaconda3\\envs\\main\\lib\\site-packages\\konlpy\\tag\\_okt.py:16: UserWarning: \"Twitter\" has changed to \"Okt\" since KoNLPy v0.4.5.\n",
      "  warn('\"Twitter\" has changed to \"Okt\" since KoNLPy v0.4.5.')\n"
     ]
    },
    {
     "name": "stdout",
     "output_type": "stream",
     "text": [
      "['후쿠시마 등 8 개 현', '수산물 분쟁', '패소', '일본', '국내외 소비', '영향', '우려', '한국', '수입 재개', '요청', '2020년 도쿄 올림픽', '후쿠시마 산 농 수산물 적극 활용', '계획']\n"
     ]
    }
   ],
   "source": [
    "# KoNLPy로 한국어 명사구를 추출하는 방법\n",
    "import konlpy\n",
    "import nltk\n",
    "\n",
    "sentence_ko = \"\"\"후쿠시마 등 8개 현의 수산물 분쟁에서 패소한 일본이 국내외 소비에 미치는 영향을 우려해 한국의 수입 재개를 끈질기게 요청하고, \n",
    "            2020년 도쿄 올림픽에서 ‘후쿠시마산 농수산물 적극 활용한다’는 계획을 밝혔다.\"\"\"\n",
    "words = konlpy.tag.Twitter().pos(sentence_ko)\n",
    "\n",
    "parser = nltk.RegexpParser('NP: {<N.*>*<Suffix>?}')\n",
    "chunks = parser.parse(words)\n",
    "\n",
    "noun_chunks = []\n",
    "for subtree in chunks.subtrees():\n",
    "    if subtree.label()=='NP':\n",
    "        noun_chunks.append(' '.join((e[0] for e in list(subtree))))\n",
    "print(noun_chunks)"
   ]
  },
  {
   "cell_type": "markdown",
   "metadata": {},
   "source": [
    "##### 1.4 Tokenize"
   ]
  },
  {
   "cell_type": "code",
   "execution_count": 12,
   "metadata": {},
   "outputs": [
    {
     "name": "stdout",
     "output_type": "stream",
     "text": [
      "['The', 'present', 'invention', 'provides', 'tricyclic', 'fused', 'thiophene', 'derivatives', ',', 'as', 'well', 'as', 'their', 'compositions', 'and', 'methods', 'of', 'use', ',', 'that', 'modulate', 'the', 'activity', 'of', 'Janus', 'kinase', '(', 'JAK', ')', 'and', 'are', 'useful', 'in', 'the', 'treatment', 'of', 'diseases', 'related', 'to', 'the', 'activity', 'of', 'JAK', 'including', ',', 'for', 'example', ',', 'inflammatory', 'disorders', ',', 'autoimmune', 'disorders', ',', 'cancer', ',', 'and', 'other', 'diseases', '.']\n"
     ]
    }
   ],
   "source": [
    "from nltk.tokenize import word_tokenize\n",
    "\n",
    "tokens = word_tokenize(sample_str)\n",
    "print(tokens)"
   ]
  },
  {
   "cell_type": "markdown",
   "metadata": {},
   "source": [
    "##### 1.5 불용어 제거"
   ]
  },
  {
   "cell_type": "code",
   "execution_count": 13,
   "metadata": {},
   "outputs": [
    {
     "name": "stdout",
     "output_type": "stream",
     "text": [
      "['i', 'me', 'my', 'myself', 'we', 'our', 'ours', 'ourselves', 'you', \"you're\", \"you've\", \"you'll\", \"you'd\", 'your', 'yours', 'yourself', 'yourselves', 'he', 'him', 'his', 'himself', 'she', \"she's\", 'her', 'hers', 'herself', 'it', \"it's\", 'its', 'itself', 'they', 'them', 'their', 'theirs', 'themselves', 'what', 'which', 'who', 'whom', 'this', 'that', \"that'll\", 'these', 'those', 'am', 'is', 'are', 'was', 'were', 'be', 'been', 'being', 'have', 'has', 'had', 'having', 'do', 'does', 'did', 'doing', 'a', 'an', 'the', 'and', 'but', 'if', 'or', 'because', 'as', 'until', 'while', 'of', 'at', 'by', 'for', 'with', 'about', 'against', 'between', 'into', 'through', 'during', 'before', 'after', 'above', 'below', 'to', 'from', 'up', 'down', 'in', 'out', 'on', 'off', 'over', 'under', 'again', 'further', 'then', 'once', 'here', 'there', 'when', 'where', 'why', 'how', 'all', 'any', 'both', 'each', 'few', 'more', 'most', 'other', 'some', 'such', 'no', 'nor', 'not', 'only', 'own', 'same', 'so', 'than', 'too', 'very', 's', 't', 'can', 'will', 'just', 'don', \"don't\", 'should', \"should've\", 'now', 'd', 'll', 'm', 'o', 're', 've', 'y', 'ain', 'aren', \"aren't\", 'couldn', \"couldn't\", 'didn', \"didn't\", 'doesn', \"doesn't\", 'hadn', \"hadn't\", 'hasn', \"hasn't\", 'haven', \"haven't\", 'isn', \"isn't\", 'ma', 'mightn', \"mightn't\", 'mustn', \"mustn't\", 'needn', \"needn't\", 'shan', \"shan't\", 'shouldn', \"shouldn't\", 'wasn', \"wasn't\", 'weren', \"weren't\", 'won', \"won't\", 'wouldn', \"wouldn't\"]\n",
      "frozenset({'yourself', 'every', 'fire', 'made', 'whole', 'from', 'up', 'hasnt', 'it', 'whatever', 'within', 'co', 'is', 'system', 'therefore', 'was', 'very', 'do', 'except', 'same', 'herself', 'him', 'still', 'everywhere', 'might', 'anyone', 'thin', 'us', 'two', 'besides', 'nevertheless', 'several', 'well', 'forty', 'he', 'other', 'so', 'under', 'everything', 'often', 'see', 'serious', 'fill', 'down', 'its', 'nine', 'describe', 'five', 'somehow', 'ten', 'in', 'i', 'your', 'until', 'sometime', 'himself', 'many', 'almost', 'anyway', 'cant', 'moreover', 'toward', 'thereby', 'wherein', 'had', 'anything', 'done', 'inc', 'were', 'ie', 'no', 'six', 'their', 'formerly', 'before', 'than', 'nobody', 'whereupon', 'would', 'onto', 'all', 'none', 'nothing', 'and', 'twenty', 'his', 'much', 'one', 'thence', 'never', 'whom', 'across', 're', 'anywhere', 'thereafter', 'without', 'hereupon', 'bottom', 'show', 'beyond', 'am', 'that', 'name', 'mill', 'by', 'at', 'eight', 'latter', 'ltd', 'itself', 'above', 'they', 'through', 'hundred', 'becoming', 'whenever', 'whereby', 'hereafter', 'full', 'less', 'been', 'being', 'themselves', 'where', 'each', 'thus', 'everyone', 'herein', 'empty', 'couldnt', 'eleven', 'least', 'indeed', 'also', 'namely', 'have', 'call', 'fifty', 'four', 'side', 'alone', 'we', 'found', 'beside', 'noone', 'sometimes', 'nowhere', 'this', 'once', 'becomes', 'otherwise', 'sixty', 'latterly', 'because', 'someone', 'could', 'are', 'may', 'own', 'along', 'against', 'few', 'first', 'both', 'amount', 'if', 'our', 'take', 'hers', 'former', 'together', 'too', 'me', 'yet', 'whereafter', 'throughout', 'who', 'neither', 'yours', 'amoungst', 'elsewhere', 'get', 'afterwards', 'even', 'her', 'become', 'three', 'nor', 'now', 'however', 'perhaps', 'only', 'can', 'on', 'them', 'twelve', 'has', 'meanwhile', 'therein', 'thick', 'an', 'whether', 'whoever', 'go', 'not', 'another', 'give', 'back', 'next', 'to', 'she', 'hereby', 'must', 'cry', 'be', 'into', 'about', 'mine', 'already', 'upon', 'myself', 'detail', 'why', 'cannot', 'a', 'anyhow', 'for', 'via', 'since', 'either', 'which', 'eg', 'with', 'con', 'around', 'seem', 'will', 'please', 'off', 'what', 'always', 'during', 'bill', 'again', 'yourselves', 'un', 'fifteen', 'or', 'as', 'though', 'thru', 'ours', 'behind', 'became', 'de', 'keep', 'most', 'there', 'whereas', 'enough', 'among', 'any', 'although', 'amongst', 'beforehand', 'here', 'per', 'seeming', 'find', 'seems', 'somewhere', 'wherever', 'hence', 'sincere', 'last', 'those', 'towards', 'should', 'ourselves', 'third', 'something', 'top', 'mostly', 'ever', 'these', 'some', 'etc', 'how', 'such', 'else', 'further', 'seemed', 'after', 'due', 'the', 'then', 'whence', 'move', 'below', 'whither', 'more', 'others', 'front', 'while', 'put', 'you', 'interest', 'part', 'whose', 'thereupon', 'of', 'my', 'between', 'out', 'over', 'when', 'but', 'rather'})\n",
      "{'yourself', 'every', 'made', 'whole', 'from', 'up', 'it', 'whatever', 'within', 'was', 'is', 'therefore', 'very', 'do', 'except', 'same', 'herself', 'him', 'still', 'everywhere', 'might', 'anyone', \"'ll\", 'did', 'us', 'two', 'besides', 'nevertheless', 'several', 'well', 'forty', 'he', 'other', 'so', 'under', 'everything', 'often', 'see', 'serious', 'nine', 'down', 'its', 'somehow', \"'ve\", 'five', 'ten', 'doing', 'in', 'i', 'your', 'until', 'sometime', 'himself', 'many', 'almost', 'anyway', 'moreover', 'toward', 'wherein', 'thereby', 'had', 'anything', 'done', 'were', 'no', 'quite', 'six', 'their', 'formerly', 'before', 'than', 'nobody', 'whereupon', 'would', 'onto', 'all', 'none', 'nothing', 'and', 'twenty', 'ca', 'his', 'much', 'one', 'regarding', 'never', 'thence', 'whom', \"'d\", 'across', 're', 'anywhere', 'thereafter', 'unless', 'hereupon', 'without', 'bottom', 'show', 'beyond', 'am', 'that', 'name', 'by', 'at', 'eight', 'latter', 'through', 'itself', 'above', 'they', 'hundred', 'becoming', 'whenever', 'whereby', 'really', 'hereafter', 'say', 'full', 'less', 'been', 'being', 'themselves', 'where', 'each', 'thus', 'everyone', 'herein', 'empty', 'eleven', 'least', 'just', 'indeed', 'also', 'namely', 'have', 'call', 'fifty', 'four', 'side', 'alone', 'we', 'beside', 'noone', 'sometimes', 'nowhere', 'this', 'once', 'becomes', 'otherwise', 'sixty', 'using', 'latterly', 'because', 'someone', 'could', 'are', 'may', 'own', 'along', 'few', 'against', 'first', 'both', 'amount', 'if', 'our', 'take', 'hers', 'former', 'together', 'too', 'me', 'yet', 'whereafter', 'throughout', 'who', 'neither', 'yours', 'elsewhere', 'get', 'afterwards', 'even', 'her', 'become', 'three', 'nor', 'now', 'however', 'perhaps', 'only', 'can', 'on', 'them', 'twelve', 'has', 'meanwhile', 'therein', 'does', 'an', 'whether', 'whoever', 'go', 'not', 'another', 'give', 'back', 'next', 'to', 'she', 'hereby', 'must', 'into', 'be', 'mine', 'about', 'upon', 'already', 'various', 'myself', 'why', 'cannot', 'a', 'anyhow', 'for', 'via', 'since', 'either', 'which', 'used', 'with', 'around', 'seem', 'will', 'please', 'off', 'what', 'always', 'during', 'again', 'yourselves', \"'s\", 'fifteen', 'or', 'as', 'though', 'thru', 'ours', 'behind', \"n't\", 'became', 'keep', 'most', 'make', 'there', 'whereas', \"'re\", 'enough', 'among', 'any', 'although', 'amongst', 'beforehand', 'here', 'per', 'seeming', 'seems', 'somewhere', 'wherever', 'hence', 'last', 'those', 'towards', 'should', 'ourselves', 'third', 'something', 'top', 'mostly', 'ever', 'these', 'some', 'how', 'such', 'else', 'further', 'seemed', 'after', 'due', 'the', 'then', 'whence', 'move', 'below', 'whither', 'more', 'others', 'front', \"'m\", 'while', 'put', 'you', 'part', 'whose', 'thereupon', 'of', 'my', 'between', 'out', 'over', 'when', 'but', 'rather'}\n"
     ]
    }
   ],
   "source": [
    "# stopwords lists\n",
    "from nltk.corpus import stopwords\n",
    "print(stopwords.words('english'))\n",
    "\n",
    "from sklearn.feature_extraction.stop_words import ENGLISH_STOP_WORDS\n",
    "print(ENGLISH_STOP_WORDS)\n",
    "\n",
    "from spacy.lang.en.stop_words import STOP_WORDS\n",
    "print(STOP_WORDS)"
   ]
  },
  {
   "cell_type": "code",
   "execution_count": 14,
   "metadata": {},
   "outputs": [
    {
     "name": "stdout",
     "output_type": "stream",
     "text": [
      "['The', 'present', 'invention', 'provides', 'tricyclic', 'fused', 'thiophene', 'derivatives', ',', 'well', 'compositions', 'methods', 'use', ',', 'modulate', 'activity', 'Janus', 'kinase', '(', 'JAK', ')', 'useful', 'treatment', 'diseases', 'related', 'activity', 'JAK', 'including', ',', 'example', ',', 'inflammatory', 'disorders', ',', 'autoimmune', 'disorders', ',', 'cancer', ',', 'diseases', '.']\n"
     ]
    }
   ],
   "source": [
    "stop_words = set(stopwords.words('english'))\n",
    "\n",
    "tokens = word_tokenize(sample_str)\n",
    "tokens_without_stopwords = [i for i in tokens if not i in stop_words]\n",
    "print (tokens_without_stopwords)"
   ]
  },
  {
   "cell_type": "markdown",
   "metadata": {},
   "source": [
    "##### 1.6 Stemming & Lemmatizing"
   ]
  },
  {
   "cell_type": "code",
   "execution_count": 15,
   "metadata": {},
   "outputs": [
    {
     "name": "stdout",
     "output_type": "stream",
     "text": [
      "['the', 'present', 'invent', 'provid', 'tricycl', 'fuse', 'thiophen', 'deriv', ',', 'well', 'composit', 'method', 'use', ',', 'modul', 'activ', 'janu', 'kinas', '(', 'jak', ')', 'use', 'treatment', 'diseas', 'relat', 'activ', 'jak', 'includ', ',', 'exampl', ',', 'inflammatori', 'disord', ',', 'autoimmun', 'disord', ',', 'cancer', ',', 'diseas', '.']\n"
     ]
    }
   ],
   "source": [
    "# Stemming (어간화)\n",
    "from nltk.stem import PorterStemmer\n",
    "\n",
    "stemmer= PorterStemmer()\n",
    "stems = [stemmer.stem(token) for token in tokens_without_stopwords]\n",
    "print(stems)"
   ]
  },
  {
   "cell_type": "code",
   "execution_count": 16,
   "metadata": {},
   "outputs": [
    {
     "name": "stdout",
     "output_type": "stream",
     "text": [
      "['The', 'present', 'invention', 'provides', 'tricyclic', 'fused', 'thiophene', 'derivative', ',', 'well', 'composition', 'method', 'use', ',', 'modulate', 'activity', 'Janus', 'kinase', '(', 'JAK', ')', 'useful', 'treatment', 'disease', 'related', 'activity', 'JAK', 'including', ',', 'example', ',', 'inflammatory', 'disorder', ',', 'autoimmune', 'disorder', ',', 'cancer', ',', 'disease', '.']\n"
     ]
    }
   ],
   "source": [
    "# Lemmatizing\n",
    "from nltk.stem import WordNetLemmatizer\n",
    "\n",
    "lematizer = WordNetLemmatizer()\n",
    "lemmas = [lematizer.lemmatize(token) for token in tokens_without_stopwords]\n",
    "print(lemmas)"
   ]
  },
  {
   "cell_type": "markdown",
   "metadata": {},
   "source": [
    "##### 1.7 Term frequency matrix"
   ]
  },
  {
   "cell_type": "code",
   "execution_count": 17,
   "metadata": {},
   "outputs": [],
   "source": [
    "sample_corpus = data[0:10].abst.values #10개 문서만 사용"
   ]
  },
  {
   "cell_type": "code",
   "execution_count": 18,
   "metadata": {},
   "outputs": [],
   "source": [
    "from sklearn.feature_extraction.text import CountVectorizer\n",
    "\n",
    "vectorizer = CountVectorizer(stop_words='english')\n",
    "TFM = vectorizer.fit_transform(sample_corpus)"
   ]
  },
  {
   "cell_type": "code",
   "execution_count": 19,
   "metadata": {},
   "outputs": [
    {
     "name": "stdout",
     "output_type": "stream",
     "text": [
      "['10', '50', 'according', 'activity', 'adjoins', 'adjusting', 'analytical', 'andor', 'anode', 'apparatus']\n",
      "[0 0 0 2 0 0 0 0 0 0 0 0 0 0 0 0 0 0 1 0 0 0 0 0 0 0 0 0 0 0 0 0 0 1 0 0 0\n",
      " 0 0 0 1 0 0 0 0 0 0 0 0 0 0 0 0 0 0 0 0 0 0 1 0 0 0 0 0 0 0 2 2 0 0 0 0 0\n",
      " 0 0 0 0 0 0 0 0 1 0 0 0 0 0 0 0 0 0 0 0 0 0 1 0 0 0 0 0 0 0 0 0 0 0 0 0 0\n",
      " 0 0 0 0 0 0 1 1 0 0 0 1 0 2 1 1 0 0 0 0 0 0 0 0 0 0 0 0 0 0 0 0 0 0 0 0 0\n",
      " 0 1 0 0 0 0 0 0 0 1 0 0 0 0 0 0 0 0 0 0 0 0 0 0 0 0 0 0 0 0 0 0 0 0 0 0 0\n",
      " 0 0 0 0 0 0 0 0 0 0 0 0 0 0 0 1 0 0 0 0 0 0 0 1 0 0 0 0 0 0 0 0 0 0 0 0 0\n",
      " 0 0 1 0 0 0 0 0 0 0 0 0 0 0 0 0 0 0 0 0 0 0 0 0 0 0 0 0 0 0 0 0 0 0 0 0 0\n",
      " 0 0 0 0 0 0 0 0 0 0 0 0 0 0 1 0 0 0 0 0 0 0 0 0 0 1 1 0 0 1 0 0 1 0 0 0 0\n",
      " 0 0]\n"
     ]
    }
   ],
   "source": [
    "print(vectorizer.get_feature_names()[0:10])\n",
    "print(TFM.toarray()[0])"
   ]
  },
  {
   "cell_type": "code",
   "execution_count": 20,
   "metadata": {},
   "outputs": [],
   "source": [
    "# bi-gram TF\n",
    "bi_vectorizer = CountVectorizer(ngram_range=(2,2), stop_words='english')\n",
    "bi_TFM = bi_vectorizer.fit_transform(sample_corpus)"
   ]
  },
  {
   "cell_type": "code",
   "execution_count": 21,
   "metadata": {},
   "outputs": [
    {
     "name": "stdout",
     "output_type": "stream",
     "text": [
      "['10 multiple', '10 nm', '50 10', 'according porespace', 'activity jak', 'activity janus', 'adjoins lower', 'adjusting hydrocarbon', 'analytical instruments', 'andor heat']\n",
      "[0 0 0 0 1 1 0 0 0 0 0 0 0 0 0 0 0 0 0 0 0 0 0 0 0 0 0 0 0 0 0 0 0 0 0 0 1\n",
      " 0 0 0 0 0 0 0 0 0 0 0 0 0 0 0 0 0 1 0 0 0 0 0 0 0 0 0 0 0 0 0 0 0 1 0 0 0\n",
      " 0 0 0 0 0 0 0 0 0 0 0 0 0 0 0 0 0 0 0 0 0 0 0 0 0 0 0 1 0 0 0 0 0 0 0 0 1\n",
      " 1 1 0 0 0 0 0 0 0 0 0 0 0 0 0 0 0 0 0 0 1 0 0 0 0 0 0 0 0 0 0 0 0 0 0 0 0\n",
      " 0 0 0 1 0 0 0 0 0 0 0 0 0 0 0 0 0 0 0 0 0 0 0 0 0 0 0 0 0 0 0 0 0 0 0 0 0\n",
      " 1 0 0 1 0 0 0 0 0 1 0 0 1 1 1 1 0 0 0 0 0 0 0 0 0 0 0 0 0 0 0 0 0 0 0 0 0\n",
      " 0 0 0 0 0 0 0 0 0 0 0 0 0 0 0 0 0 0 0 1 0 0 0 0 0 0 0 0 0 0 0 0 1 0 0 0 0\n",
      " 0 0 0 0 0 0 0 0 0 0 0 0 0 0 0 0 0 0 0 0 0 0 0 0 0 0 0 0 0 0 0 0 0 0 0 0 0\n",
      " 0 0 0 0 0 0 0 0 0 0 0 0 0 0 0 0 0 1 0 0 0 0 0 0 0 0 0 0 0 1 0 0 0 0 0 0 0\n",
      " 0 0 0 0 0 0 0 0 0 0 0 0 0 0 0 0 0 1 0 0 0 0 0 0 0 0 0 0 0 0 0 0 0 0 0 0 0\n",
      " 0 0 0 0 0 0 0 0 0 0 0 0 0 0 0 0 0 0 0 0 0 0 0 0 0 0 0 0 0 0 0 0 0 0 0 0 0\n",
      " 0 0 0 0 0 0 0 0 0 0 0 0 0 0 0 0 0 0 0 0 1 0 0 0 0 0 0 0 0 0 0 0 0 1 0 1 0\n",
      " 0 1 0 0 0 1 0 0 0 0 0 0]\n"
     ]
    }
   ],
   "source": [
    "print(bi_vectorizer.get_feature_names()[0:10])\n",
    "print(bi_TFM.toarray()[0])"
   ]
  },
  {
   "cell_type": "code",
   "execution_count": 22,
   "metadata": {},
   "outputs": [],
   "source": [
    "vectorizer = CountVectorizer(stop_words='english', vocabulary=set(tokens_without_stopwords))\n",
    "TFM = vectorizer.fit_transform(sample_corpus)"
   ]
  },
  {
   "cell_type": "code",
   "execution_count": 23,
   "metadata": {},
   "outputs": [
    {
     "name": "stdout",
     "output_type": "stream",
     "text": [
      "['(', ')', ',', '.', 'JAK', 'Janus', 'The', 'activity', 'autoimmune', 'cancer', 'compositions', 'derivatives', 'diseases', 'disorders', 'example']\n",
      "[0 0 0 0 0 0 0 2 1 1 1 1 2 2 1 1 1 1 1 1 1 1 1 1 1 1 1 1 1 1 0]\n"
     ]
    }
   ],
   "source": [
    "print(vectorizer.get_feature_names()[0:15])\n",
    "print(TFM.toarray()[0])"
   ]
  },
  {
   "cell_type": "code",
   "execution_count": 24,
   "metadata": {},
   "outputs": [],
   "source": [
    "# TFM을 TF-IDF로 변경하는 방법 \n",
    "from sklearn.feature_extraction.text import TfidfTransformer\n",
    "\n",
    "transformer = TfidfTransformer()\n",
    "TFIDF = transformer.fit_transform(TFM)"
   ]
  },
  {
   "cell_type": "code",
   "execution_count": 25,
   "metadata": {},
   "outputs": [
    {
     "name": "stdout",
     "output_type": "stream",
     "text": [
      "['(', ')', ',', '.', 'JAK', 'Janus', 'The', 'activity', 'autoimmune', 'cancer', 'compositions', 'derivatives', 'diseases', 'disorders', 'example']\n",
      "[0.         0.         0.         0.         0.         0.\n",
      " 0.         0.36413983 0.18206991 0.18206991 0.18206991 0.18206991\n",
      " 0.36413983 0.36413983 0.15477606 0.18206991 0.13541076 0.18206991\n",
      " 0.15477606 0.18206991 0.18206991 0.18206991 0.18206991 0.15477606\n",
      " 0.18206991 0.18206991 0.15477606 0.18206991 0.18206991 0.15477606\n",
      " 0.        ]\n"
     ]
    }
   ],
   "source": [
    "print(vectorizer.get_feature_names()[0:15])\n",
    "print(TFIDF.toarray()[0])"
   ]
  },
  {
   "cell_type": "code",
   "execution_count": 26,
   "metadata": {},
   "outputs": [],
   "source": [
    "# corpus에서 바로 TF-IDF 행렬 만드는 방법\n",
    "from sklearn.feature_extraction.text import TfidfVectorizer\n",
    "\n",
    "tfidf_vectorizer = TfidfVectorizer(stop_words='english', vocabulary=set(tokens_without_stopwords)) # parameters는 CountVectorizer와 같음\n",
    "TFIDF = tfidf_vectorizer.fit_transform(sample_corpus)"
   ]
  },
  {
   "cell_type": "code",
   "execution_count": 27,
   "metadata": {},
   "outputs": [
    {
     "name": "stdout",
     "output_type": "stream",
     "text": [
      "['(', ')', ',', '.', 'JAK', 'Janus', 'The', 'activity', 'autoimmune', 'cancer', 'compositions', 'derivatives', 'diseases', 'disorders', 'example']\n",
      "[0.         0.         0.         0.         0.         0.\n",
      " 0.         0.36413983 0.18206991 0.18206991 0.18206991 0.18206991\n",
      " 0.36413983 0.36413983 0.15477606 0.18206991 0.13541076 0.18206991\n",
      " 0.15477606 0.18206991 0.18206991 0.18206991 0.18206991 0.15477606\n",
      " 0.18206991 0.18206991 0.15477606 0.18206991 0.18206991 0.15477606\n",
      " 0.        ]\n"
     ]
    }
   ],
   "source": [
    "print(tfidf_vectorizer.get_feature_names()[0:15])\n",
    "print(TFIDF.toarray()[0])"
   ]
  },
  {
   "cell_type": "markdown",
   "metadata": {},
   "source": [
    "#### 2. Text analytics\n",
    "##### 2.1 Document similarity"
   ]
  },
  {
   "cell_type": "code",
   "execution_count": 28,
   "metadata": {},
   "outputs": [
    {
     "name": "stdout",
     "output_type": "stream",
     "text": [
      "['the present invention provides tricyclic fused thiophene derivatives as well as their compositions and methods of use that modulate the activity of janus kinase jak and are useful in the treatment of diseases related to the activity of jak including for example inflammatory disorders autoimmune disorders cancer and other diseases'\n",
      " 'a method for implementing a transition from a functioning steering assistance system to a deactivated steering assistance system when a fault occurs comprising the following steps establishing the fault of the steering assistance system establishing that all highside power switches are functional first case or establishing that all lowside power switches are functional second case and in the first case opening all highside power switches and performing pwmlike control of the lowside power switches or in the second case opening all lowside power switches and performing pwmlike control of the highside power switches']\n",
      "[[0 0 0 2 0 0 0 0 0 0 0 0 0 0 0 0 0 0 1 0 0 0 0 0 0 0 0 0 0 0 0 0 0 1 0 0\n",
      "  0 0 0 0 1 0 0 0 0 0 0 0 0 0 0 0 0 0 0 0 0 0 0 1 0 0 0 0 0 0 0 2 2 0 0 0\n",
      "  0 0 0 0 0 0 0 0 0 0 1 0 0 0 0 0 0 0 0 0 0 0 0 0 1 0 0 0 0 0 0 0 0 0 0 0\n",
      "  0 0 0 0 0 0 0 0 0 1 1 0 0 0 1 0 2 1 1 0 0 0 0 0 0 0 0 0 0 0 0 0 0 0 0 0\n",
      "  0 0 0 0 0 1 0 0 0 0 0 0 0 1 0 0 0 0 0 0 0 0 0 0 0 0 0 0 0 0 0 0 0 0 0 0\n",
      "  0 0 0 0 0 0 0 0 0 0 0 0 0 0 0 0 0 0 0 0 1 0 0 0 0 0 0 0 1 0 0 0 0 0 0 0\n",
      "  0 0 0 0 0 0 0 0 1 0 0 0 0 0 0 0 0 0 0 0 0 0 0 0 0 0 0 0 0 0 0 0 0 0 0 0\n",
      "  0 0 0 0 0 0 0 0 0 0 0 0 0 0 0 0 0 0 0 0 0 1 0 0 0 0 0 0 0 0 0 0 1 1 0 0\n",
      "  1 0 0 1 0 0 0 0 0 0]\n",
      " [0 0 0 0 0 0 0 0 0 0 0 0 0 0 0 0 3 0 0 0 0 0 0 0 0 0 0 0 0 0 0 0 0 0 0 4\n",
      "  0 0 0 0 0 0 1 0 0 0 0 0 0 0 2 0 0 0 0 0 1 0 0 0 0 0 0 0 0 0 0 0 0 0 0 0\n",
      "  0 0 0 0 0 0 0 0 3 0 0 0 0 0 0 0 2 0 1 0 0 0 2 1 0 0 0 0 0 0 0 0 0 3 0 0\n",
      "  0 0 0 0 0 0 1 0 0 0 0 0 0 0 0 0 0 0 0 0 0 0 0 0 0 0 0 0 0 0 0 3 0 0 0 0\n",
      "  0 0 0 0 1 0 0 0 0 0 0 0 0 0 0 0 0 0 0 0 0 0 0 1 0 0 2 0 0 0 0 0 0 0 0 0\n",
      "  0 0 0 0 0 2 0 0 0 0 0 0 0 0 0 0 0 6 0 0 0 0 0 0 0 0 0 0 0 0 2 0 0 0 0 0\n",
      "  0 0 0 0 0 0 0 0 0 0 0 0 0 0 0 0 0 0 0 0 2 0 0 0 0 0 0 0 0 0 0 0 0 0 0 0\n",
      "  3 0 1 0 0 0 0 0 0 0 0 0 0 6 0 0 0 0 0 0 0 0 0 0 0 0 1 0 0 0 0 0 0 0 0 0\n",
      "  0 0 0 0 0 0 0 0 0 0]]\n"
     ]
    }
   ],
   "source": [
    "vectorizer = CountVectorizer(stop_words='english')\n",
    "TFM = vectorizer.fit_transform(sample_corpus)\n",
    "print(sample_corpus[0:2])\n",
    "print(TFM.toarray()[0:2])"
   ]
  },
  {
   "cell_type": "code",
   "execution_count": 29,
   "metadata": {},
   "outputs": [
    {
     "name": "stdout",
     "output_type": "stream",
     "text": [
      "[[1.         0.         0.05554527 0.         0.03321361 0.01295646\n",
      "  0.         0.         0.         0.        ]\n",
      " [0.         1.         0.01554801 0.01902606 0.01549503 0.03022265\n",
      "  0.04928329 0.01301062 0.0364088  0.0223154 ]\n",
      " [0.05554527 0.01554801 1.         0.00838149 0.03412989 0.02130223\n",
      "  0.00542765 0.03438918 0.00801953 0.00983053]\n",
      " [0.         0.01902606 0.00838149 1.         0.         0.\n",
      "  0.06973897 0.06312293 0.02944043 0.        ]\n",
      " [0.03321361 0.01549503 0.03412989 0.         1.         0.0477667\n",
      "  0.         0.11138403 0.         0.05143445]\n",
      " [0.01295646 0.03022265 0.02130223 0.         0.0477667  1.\n",
      "  0.01266051 0.01336933 0.         0.        ]\n",
      " [0.         0.04928329 0.00542765 0.06973897 0.         0.01266051\n",
      "  1.         0.02043845 0.         0.08763841]\n",
      " [0.         0.01301062 0.03438918 0.06312293 0.11138403 0.01336933\n",
      "  0.02043845 1.         0.         0.        ]\n",
      " [0.         0.0364088  0.00801953 0.02944043 0.         0.\n",
      "  0.         0.         1.         0.0517954 ]\n",
      " [0.         0.0223154  0.00983053 0.         0.05143445 0.\n",
      "  0.08763841 0.         0.0517954  1.        ]]\n"
     ]
    }
   ],
   "source": [
    "# 코사인 유사도에 의한 방법\n",
    "from sklearn.metrics.pairwise import cosine_similarity\n",
    "\n",
    "cos_sim = cosine_similarity(TFM)\n",
    "print(cos_sim)"
   ]
  },
  {
   "cell_type": "code",
   "execution_count": 30,
   "metadata": {},
   "outputs": [
    {
     "name": "stdout",
     "output_type": "stream",
     "text": [
      "[1.0, 0.8355704697986577, 0.7516778523489933, 0.8355704697986577, 0.7953020134228188, 0.7986577181208053, 0.7449664429530202, 0.8288590604026845, 0.8590604026845637, 0.785234899328859]\n",
      "[0.8355704697986577, 1.0, 0.7416107382550335, 0.8422818791946308, 0.7885906040268457, 0.8087248322147651, 0.7583892617449665, 0.8355704697986577, 0.8657718120805369, 0.7953020134228188]\n",
      "[0.7516778523489933, 0.7416107382550335, 1.0, 0.738255033557047, 0.6912751677852349, 0.6946308724832215, 0.6476510067114094, 0.7348993288590604, 0.761744966442953, 0.6946308724832215]\n",
      "[0.8355704697986577, 0.8422818791946308, 0.738255033557047, 1.0, 0.785234899328859, 0.7953020134228188, 0.7583892617449665, 0.8389261744966443, 0.8657718120805369, 0.7885906040268457]\n",
      "[0.7953020134228188, 0.7885906040268457, 0.6912751677852349, 0.785234899328859, 1.0, 0.7449664429530202, 0.6946308724832215, 0.785234899328859, 0.8087248322147651, 0.7449664429530202]\n",
      "[0.7986577181208053, 0.8087248322147651, 0.6946308724832215, 0.7953020134228188, 0.7449664429530202, 1.0, 0.7080536912751678, 0.7919463087248322, 0.8187919463087249, 0.7449664429530202]\n",
      "[0.7449664429530202, 0.7583892617449665, 0.6476510067114094, 0.7583892617449665, 0.6946308724832215, 0.7080536912751678, 1.0, 0.7449664429530202, 0.7718120805369127, 0.714765100671141]\n",
      "[0.8288590604026845, 0.8355704697986577, 0.7348993288590604, 0.8389261744966443, 0.785234899328859, 0.7919463087248322, 0.7449664429530202, 1.0, 0.8557046979865772, 0.7818791946308725]\n",
      "[0.8590604026845637, 0.8657718120805369, 0.761744966442953, 0.8657718120805369, 0.8087248322147651, 0.8187919463087249, 0.7718120805369127, 0.8557046979865772, 1.0, 0.8154362416107382]\n",
      "[0.785234899328859, 0.7953020134228188, 0.6946308724832215, 0.7885906040268457, 0.7449664429530202, 0.7449664429530202, 0.714765100671141, 0.7818791946308725, 0.8154362416107382, 1.0]\n"
     ]
    }
   ],
   "source": [
    "# 자카드 계수에 의한 방법\n",
    "from sklearn.metrics import jaccard_similarity_score\n",
    "\n",
    "jar_sim = [[jaccard_similarity_score(a, b) for b in TFM.toarray()] for a in TFM.toarray()]\n",
    "\n",
    "for row in jar_sim:\n",
    "    print(row)"
   ]
  },
  {
   "cell_type": "markdown",
   "metadata": {},
   "source": [
    "##### 2.2 Generalized VSM"
   ]
  },
  {
   "cell_type": "code",
   "execution_count": 31,
   "metadata": {},
   "outputs": [
    {
     "name": "stdout",
     "output_type": "stream",
     "text": [
      "[[ 37   0   5   0   2   1   0   0   0   0]\n",
      " [  0 170   3   2   2   5   8   2   4   4]\n",
      " [  5   3 219   1   5   4   1   6   1   2]\n",
      " [  0   2   1  65   0   0   7   6   2   0]\n",
      " [  2   2   5   0  98   6   0  13   0   7]\n",
      " [  1   5   4   0   6 161   2   2   0   0]\n",
      " [  0   8   1   7   0   2 155   3   0  15]\n",
      " [  0   2   6   6  13   2   3 139   0   0]\n",
      " [  0   4   1   2   0   0   0   0  71   6]\n",
      " [  0   4   2   0   7   0  15   0   6 189]]\n"
     ]
    }
   ],
   "source": [
    "# G-VSM based Document correlation\n",
    "doc_corr = TFM*TFM.T\n",
    "print(doc_corr.toarray())"
   ]
  },
  {
   "cell_type": "code",
   "execution_count": 32,
   "metadata": {},
   "outputs": [
    {
     "data": {
      "text/plain": [
       "<Figure size 500x500 with 1 Axes>"
      ]
     },
     "metadata": {},
     "output_type": "display_data"
    }
   ],
   "source": [
    "# drawing\n",
    "import networkx as nx\n",
    "import matplotlib.pyplot as plt\n",
    "\n",
    "G_d = nx.from_scipy_sparse_matrix(doc_corr)\n",
    "plt.figure(figsize=(5,5)) \n",
    "nx.draw_networkx(G_d)\n",
    "plt.show()"
   ]
  },
  {
   "cell_type": "code",
   "execution_count": 33,
   "metadata": {},
   "outputs": [
    {
     "name": "stdout",
     "output_type": "stream",
     "text": [
      "[[4 2 0 ... 0 0 0]\n",
      " [2 1 0 ... 0 0 0]\n",
      " [0 0 1 ... 0 0 0]\n",
      " ...\n",
      " [0 0 0 ... 1 1 1]\n",
      " [0 0 0 ... 1 1 1]\n",
      " [0 0 0 ... 1 1 1]]\n"
     ]
    }
   ],
   "source": [
    "# G-VSM based Term correlation\n",
    "term_corr = TFM.T*TFM\n",
    "print(term_corr.toarray())"
   ]
  },
  {
   "cell_type": "code",
   "execution_count": 34,
   "metadata": {},
   "outputs": [
    {
     "data": {
      "image/png": "[encoded data removed]",
      "text/plain": [
       "<Figure size 360x360 with 1 Axes>"
      ]
     },
     "metadata": {},
     "output_type": "display_data"
    }
   ],
   "source": [
    "G_t = nx.from_scipy_sparse_matrix(term_corr)\n",
    "plt.figure(figsize=(5,5)) \n",
    "nx.draw_networkx(G_t)\n",
    "plt.show()"
   ]
  },
  {
   "cell_type": "markdown",
   "metadata": {},
   "source": [
    "##### 2.3 Social network analysis"
   ]
  },
  {
   "cell_type": "code",
   "execution_count": 35,
   "metadata": {},
   "outputs": [
    {
     "name": "stdout",
     "output_type": "stream",
     "text": [
      "[2, 1]\n"
     ]
    }
   ],
   "source": [
    "# Dijkstra’s algorithm (shortest path)\n",
    "print(nx.dijkstra_path(G_d, 2, 1))"
   ]
  },
  {
   "cell_type": "code",
   "execution_count": 36,
   "metadata": {},
   "outputs": [
    {
     "name": "stdout",
     "output_type": "stream",
     "text": [
      "{0: 0.5555555555555556, 1: 1.1111111111111112, 2: 1.222222222222222, 3: 0.7777777777777777, 4: 0.8888888888888888, 5: 0.8888888888888888, 6: 0.8888888888888888, 7: 0.8888888888888888, 8: 0.6666666666666666, 9: 0.7777777777777777}\n",
      "{0: 0.1714230414282804, 1: 0.4043104121017196, 2: 0.42815911579362914, 3: 0.27811653216589294, 4: 0.31245986982429697, 5: 0.32014266853938006, 6: 0.32970120934138136, 7: 0.33498561699957, 8: 0.22383028432745677, 9: 0.27447668742983855}\n"
     ]
    }
   ],
   "source": [
    "# Centralities\n",
    "print(nx.degree_centrality(G_d))\n",
    "print(nx.eigenvector_centrality(G_d))"
   ]
  },
  {
   "cell_type": "code",
   "execution_count": 37,
   "metadata": {},
   "outputs": [
    {
     "name": "stdout",
     "output_type": "stream",
     "text": [
      "({0}, {1, 2, 3, 4, 5, 6, 7, 8, 9})\n",
      "({0}, {1, 2, 3, 4, 5, 6, 7, 9}, {8})\n",
      "({0}, {1, 2, 3, 4, 5, 6, 7}, {8}, {9})\n"
     ]
    }
   ],
   "source": [
    "# Communities\n",
    "from networkx.algorithms import community\n",
    "\n",
    "communities_generator = community.girvan_newman(G_d)\n",
    "top_level_communities = next(communities_generator)\n",
    "print(top_level_communities)\n",
    "\n",
    "second_level_communities = next(communities_generator)\n",
    "print(second_level_communities)\n",
    "\n",
    "third_level_communities = next(communities_generator)\n",
    "print(third_level_communities)"
   ]
  },
  {
   "cell_type": "code",
   "execution_count": 38,
   "metadata": {},
   "outputs": [
    {
     "name": "stdout",
     "output_type": "stream",
     "text": [
      "(0, 1) -> 1.37882909\n",
      "(0, 3) -> 0.41703239\n",
      "(0, 6) -> 0.89793074\n",
      "(0, 7) -> 1.37882909\n",
      "(0, 8) -> 0.41703239\n",
      "(0, 9) -> 0.89793074\n",
      "(3, 9) -> 1.89033585\n",
      "(3, 4) -> 1.33222522\n",
      "(3, 5) -> 1.81312357\n",
      "(4, 8) -> 1.36522522\n",
      "(4, 6) -> 2.32702191\n",
      "(5, 8) -> 0.85132687\n",
      "(5, 9) -> 1.81312357\n",
      "(6, 8) -> 1.87912356\n",
      "(7, 8) -> 1.36522522\n",
      "(7, 9) -> 1.81312357\n"
     ]
    }
   ],
   "source": [
    "# Link prediction\n",
    "aai = nx.adamic_adar_index(G_d)\n",
    "\n",
    "for u, v, p in aai:\n",
    "    print('(%d, %d) -> %.8f' % (u, v, p))"
   ]
  },
  {
   "cell_type": "markdown",
   "metadata": {},
   "source": [
    "##### 2.4 Assosiation rule mining"
   ]
  },
  {
   "cell_type": "code",
   "execution_count": 39,
   "metadata": {},
   "outputs": [
    {
     "name": "stdout",
     "output_type": "stream",
     "text": [
      "['activity', 'activity', 'autoimmune', 'cancer', 'compositions', 'derivatives', 'diseases', 'diseases', 'disorders', 'disorders', 'example', 'fused', 'including', 'inflammatory', 'invention', 'jak', 'jak', 'janus', 'kinase', 'methods', 'modulate', 'present', 'provides', 'related', 'thiophene', 'treatment', 'tricyclic', 'use', 'useful']\n"
     ]
    }
   ],
   "source": [
    "# Bucket 형태로 데이터 변환\n",
    "itemset = [[[vectorizer.get_feature_names()[idx]]*num for idx, num in enumerate(doc) if num != 0] for doc in TFM.toarray()]\n",
    "itemset = [sum(item, []) for item in itemset]\n",
    "print(itemset[0])"
   ]
  },
  {
   "cell_type": "code",
   "execution_count": 40,
   "metadata": {
    "scrolled": false
   },
   "outputs": [
    {
     "name": "stdout",
     "output_type": "stream",
     "text": [
      "   support     itemsets\n",
      "0      0.3  (apparatus)\n",
      "1      0.3   (includes)\n",
      "2      0.3  (including)\n",
      "3      0.4     (method)\n",
      "4      0.3    (opening)\n",
      "5      0.3     (second)\n",
      "Empty DataFrame\n",
      "Columns: [antecedents, consequents, antecedent support, consequent support, support, confidence, lift, leverage, conviction]\n",
      "Index: []\n"
     ]
    }
   ],
   "source": [
    "from mlxtend.preprocessing import TransactionEncoder \n",
    "from mlxtend.frequent_patterns import apriori, association_rules\n",
    " \n",
    "encoder = TransactionEncoder()\n",
    "oht_ary = encoder.fit_transform(itemset)\n",
    "df = pd.DataFrame(oht_ary, columns=encoder.columns_)       \n",
    " \n",
    "frequent_itemsets = apriori(df, min_support=0.3, use_colnames=True)\n",
    "print (frequent_itemsets)\n",
    " \n",
    "rules = association_rules(frequent_itemsets, metric=\"lift\", min_threshold=1.2)\n",
    "print (rules)"
   ]
  },
  {
   "cell_type": "markdown",
   "metadata": {},
   "source": [
    "##### 2.5 Sentiment analysis"
   ]
  },
  {
   "cell_type": "code",
   "execution_count": 41,
   "metadata": {},
   "outputs": [
    {
     "name": "stdout",
     "output_type": "stream",
     "text": [
      "[nltk_data] Downloading package vader_lexicon to\n",
      "[nltk_data]     C:\\Users\\user\\AppData\\Roaming\\nltk_data...\n",
      "[nltk_data]   Package vader_lexicon is already up-to-date!\n"
     ]
    },
    {
     "data": {
      "text/plain": [
       "True"
      ]
     },
     "execution_count": 41,
     "metadata": {},
     "output_type": "execute_result"
    }
   ],
   "source": [
    "# VADER in NLTK (Valence Aware Dictionary and sEntiment Reasoner)\n",
    "import nltk\n",
    "nltk.download('vader_lexicon') # VADER는 사전기반의 감성분석 방법이라, 사전 다운로드가 필요함"
   ]
  },
  {
   "cell_type": "code",
   "execution_count": 42,
   "metadata": {},
   "outputs": [
    {
     "name": "stdout",
     "output_type": "stream",
     "text": [
      "{'neg': 0.078, 'neu': 0.833, 'pos': 0.089, 'compound': -0.1027}\n",
      "{'neg': 0.059, 'neu': 0.941, 'pos': 0.0, 'compound': -0.6597}\n",
      "{'neg': 0.044, 'neu': 0.926, 'pos': 0.03, 'compound': -0.2732}\n",
      "{'neg': 0.0, 'neu': 0.961, 'pos': 0.039, 'compound': 0.2732}\n",
      "{'neg': 0.053, 'neu': 0.904, 'pos': 0.044, 'compound': 0.25}\n",
      "{'neg': 0.0, 'neu': 0.924, 'pos': 0.076, 'compound': 0.8074}\n",
      "{'neg': 0.015, 'neu': 0.948, 'pos': 0.037, 'compound': 0.4939}\n",
      "{'neg': 0.0, 'neu': 1.0, 'pos': 0.0, 'compound': 0.0}\n",
      "{'neg': 0.0, 'neu': 1.0, 'pos': 0.0, 'compound': 0.0}\n",
      "{'neg': 0.0, 'neu': 0.966, 'pos': 0.034, 'compound': 0.4767}\n"
     ]
    }
   ],
   "source": [
    "from nltk.sentiment.vader import SentimentIntensityAnalyzer\n",
    "analyzer = SentimentIntensityAnalyzer()\n",
    "\n",
    "summary = {\"positive\":0,\"neutral\":0,\"negative\":0}\n",
    "for doc in sample_corpus: \n",
    "    print(analyzer.polarity_scores(doc))"
   ]
  }
 ],
 "metadata": {
  "kernelspec": {
   "display_name": "Python3.6+main",
   "language": "python",
   "name": "main"
  },
  "language_info": {
   "codemirror_mode": {
    "name": "ipython",
    "version": 3
   },
   "file_extension": ".py",
   "mimetype": "text/x-python",
   "name": "python",
   "nbconvert_exporter": "python",
   "pygments_lexer": "ipython3",
   "version": "3.6.8"
  }
 },
 "nbformat": 4,
 "nbformat_minor": 2
}
