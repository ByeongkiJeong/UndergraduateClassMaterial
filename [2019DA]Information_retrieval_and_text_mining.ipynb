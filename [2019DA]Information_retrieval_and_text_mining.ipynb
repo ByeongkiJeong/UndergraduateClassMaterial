{
 "cells": [
  {
   "cell_type": "markdown",
   "metadata": {},
   "source": [
    "# 2019 Data analytics Lab @Dept. of Industrial engineering\n",
    "## Information retrieval and text mining\n",
    "\n",
    "### Contents\n",
    "#### 1. Text pre-processing technique\n",
    " - 대소문자 변환\n",
    " - 숫자, 특수문자, 공백 제거\n",
    " - 키워드 추출\n",
    " - Tokenize\n",
    " - 불용어 제거\n",
    " - Stemming\n",
    " - Term frequency matrix\n",
    "\n",
    "#### 2. Text analytics\n",
    " - Document similarity\n",
    " - Generalized VSM \n",
    " - Social network analysis\n",
    " - Assosiation rule mining\n",
    " - Sentiment analysis\n",
    "\n",
    "### Used library\n",
    " - SQL Alchemy: DB와 관련된 다양한 작업을 지원하는 라이브러리 (https://www.sqlalchemy.org/)\n",
    " - Pandas: 데이터분석용 툴킷, Table 형태로 데이터를 다룰 수 있고 빨라서 널리사용됨 (https://pandas.pydata.org) \n",
    " - Sci-kit learn: Machine learning과 관련된 대부분의 모듈이 구축되어 있음 (http://scikit-learn.org)\n",
    " - Matplotlib: Plot을 그릴때 가장 널리 사용되는 라이브러리 (https://matplotlib.org/)\n",
    " - NetworkX: 네트워크관련 다양한 작업을 지원하는 패키지 (https://networkx.github.io/)\n",
    " - KoNLPy: 한국어 자연어처리를 위한 도구들을 통합해놓은 Wrapper (http://konlpy.org/)\n",
    " - re: 정규식 처리를 위한 Python 내부 패키지 (https://docs.python.org/3/library/re.html)\n",
    " - nltk: 자연어 처리 툴킷, 가장 범용적으로 사용되는 라이브러리 (https://www.nltk.org)\n",
    " - rake-nltk: 키워드 추출 알고리즘 Rake를 지원하는 라이브러리 (https://pypi.org/project/rake-nltk/)\n",
    " - spaCy: 자연어 처리 라이브러리, 특히 딥러닝과의 연계에 특화 (https://spacy.io/)\n",
    " - mlxtend: Machine learning 라이브러리 (http://rasbt.github.io/mlxtend/)\n",
    " \n",
    "### Data\n",
    "- 개인과제로 제공된 특허데이터 중에서, 초록 100개를 무작위 추출하여 사용함  \n",
    "- Pandas를 이용하면 csv, xls 등의 파일을 읽을 수 도 있고, sql로부터 자료를 직접 가져올 수도 있음\n",
    "- 본 예제에서는 sql에서 직접 가져옴"
   ]
  },
  {
   "cell_type": "code",
   "execution_count": 1,
   "metadata": {},
   "outputs": [
    {
     "name": "stderr",
     "output_type": "stream",
     "text": [
      "C:\\Users\\user\\Anaconda3\\envs\\main\\lib\\site-packages\\pymysql\\cursors.py:170: Warning: (1366, \"Incorrect string value: '\\\\xB4\\\\xEB\\\\xC7\\\\xD1\\\\xB9\\\\xCE...' for column 'VARIABLE_VALUE' at row 533\")\n",
      "  result = self._query(query)\n"
     ]
    }
   ],
   "source": [
    "import pandas as pd\n",
    "import sqlalchemy\n",
    "import pymysql\n",
    "pymysql.install_as_MySQLdb()\n",
    "\n",
    "conn = sqlalchemy.create_engine('mysql://your id:your pw@address:port/scheme', encoding='utf-8')\n",
    "\n",
    "query = \"SELECT * FROM abstract ORDER BY rand() LIMIT 100\"\n",
    "data = pd.read_sql(sql=query, con=conn)\n",
    "data.columns = ['app_num','abst']"
   ]
  },
  {
   "cell_type": "code",
   "execution_count": 2,
   "metadata": {},
   "outputs": [
    {
     "data": {
      "text/html": [
       "<div>\n",
       "<style scoped>\n",
       "    .dataframe tbody tr th:only-of-type {\n",
       "        vertical-align: middle;\n",
       "    }\n",
       "\n",
       "    .dataframe tbody tr th {\n",
       "        vertical-align: top;\n",
       "    }\n",
       "\n",
       "    .dataframe thead th {\n",
       "        text-align: right;\n",
       "    }\n",
       "</style>\n",
       "<table border=\"1\" class=\"dataframe\">\n",
       "  <thead>\n",
       "    <tr style=\"text-align: right;\">\n",
       "      <th></th>\n",
       "      <th>app_num</th>\n",
       "      <th>abst</th>\n",
       "    </tr>\n",
       "  </thead>\n",
       "  <tbody>\n",
       "    <tr>\n",
       "      <th>0</th>\n",
       "      <td>9840278</td>\n",
       "      <td>A control system for a vehicle includes a stee...</td>\n",
       "    </tr>\n",
       "    <tr>\n",
       "      <th>1</th>\n",
       "      <td>9590078</td>\n",
       "      <td>A semiconductor device fabrication method incl...</td>\n",
       "    </tr>\n",
       "    <tr>\n",
       "      <th>2</th>\n",
       "      <td>9726116</td>\n",
       "      <td>A gas mixer for mixing a first gas and a secon...</td>\n",
       "    </tr>\n",
       "    <tr>\n",
       "      <th>3</th>\n",
       "      <td>9703092</td>\n",
       "      <td>An optical filter includes: a lower substrate;...</td>\n",
       "    </tr>\n",
       "    <tr>\n",
       "      <th>4</th>\n",
       "      <td>9764943</td>\n",
       "      <td>A MEMS structure includes a planar substrate, ...</td>\n",
       "    </tr>\n",
       "  </tbody>\n",
       "</table>\n",
       "</div>"
      ],
      "text/plain": [
       "   app_num                                               abst\n",
       "0  9840278  A control system for a vehicle includes a stee...\n",
       "1  9590078  A semiconductor device fabrication method incl...\n",
       "2  9726116  A gas mixer for mixing a first gas and a secon...\n",
       "3  9703092  An optical filter includes: a lower substrate;...\n",
       "4  9764943  A MEMS structure includes a planar substrate, ..."
      ]
     },
     "execution_count": 2,
     "metadata": {},
     "output_type": "execute_result"
    }
   ],
   "source": [
    "data.head()"
   ]
  },
  {
   "cell_type": "markdown",
   "metadata": {},
   "source": [
    "#### 1. Text pre-processing technique  \n",
    "텍스트에서 노이즈를 제거하고, 활용이 가능한 행렬형태로 변형하는 기본적인 방법들을 다룸"
   ]
  },
  {
   "cell_type": "markdown",
   "metadata": {},
   "source": [
    "##### 1.1 대소문자 변환"
   ]
  },
  {
   "cell_type": "code",
   "execution_count": 3,
   "metadata": {},
   "outputs": [
    {
     "name": "stdout",
     "output_type": "stream",
     "text": [
      "A control system for a vehicle includes a steering system, an input including a rotatable rotary element, and a controller. The controller receives a trailer backup assist mode initiation command from the input and activates a trailer backup mode including outputting a vehicle steering command based on a first instantaneous position of the rotary element to the steering system. The controller further receives a terrain management mode initiation command from the input and activating a terrain management mode.\n"
     ]
    }
   ],
   "source": [
    "sample_str = data.loc[0, 'abst']\n",
    "print(sample_str)"
   ]
  },
  {
   "cell_type": "code",
   "execution_count": 4,
   "metadata": {},
   "outputs": [
    {
     "name": "stdout",
     "output_type": "stream",
     "text": [
      "A CONTROL SYSTEM FOR A VEHICLE INCLUDES A STEERING SYSTEM, AN INPUT INCLUDING A ROTATABLE ROTARY ELEMENT, AND A CONTROLLER. THE CONTROLLER RECEIVES A TRAILER BACKUP ASSIST MODE INITIATION COMMAND FROM THE INPUT AND ACTIVATES A TRAILER BACKUP MODE INCLUDING OUTPUTTING A VEHICLE STEERING COMMAND BASED ON A FIRST INSTANTANEOUS POSITION OF THE ROTARY ELEMENT TO THE STEERING SYSTEM. THE CONTROLLER FURTHER RECEIVES A TERRAIN MANAGEMENT MODE INITIATION COMMAND FROM THE INPUT AND ACTIVATING A TERRAIN MANAGEMENT MODE.\n",
      "\n",
      "a control system for a vehicle includes a steering system, an input including a rotatable rotary element, and a controller. the controller receives a trailer backup assist mode initiation command from the input and activates a trailer backup mode including outputting a vehicle steering command based on a first instantaneous position of the rotary element to the steering system. the controller further receives a terrain management mode initiation command from the input and activating a terrain management mode.\n"
     ]
    }
   ],
   "source": [
    "# Python str 객체의 내장 기능을 이용하는 방법\n",
    "UPPER_STR = sample_str.upper()\n",
    "print(UPPER_STR)\n",
    "print()\n",
    "lower_str = sample_str.lower()\n",
    "print(lower_str)"
   ]
  },
  {
   "cell_type": "code",
   "execution_count": 5,
   "metadata": {},
   "outputs": [
    {
     "data": {
      "text/html": [
       "<div>\n",
       "<style scoped>\n",
       "    .dataframe tbody tr th:only-of-type {\n",
       "        vertical-align: middle;\n",
       "    }\n",
       "\n",
       "    .dataframe tbody tr th {\n",
       "        vertical-align: top;\n",
       "    }\n",
       "\n",
       "    .dataframe thead th {\n",
       "        text-align: right;\n",
       "    }\n",
       "</style>\n",
       "<table border=\"1\" class=\"dataframe\">\n",
       "  <thead>\n",
       "    <tr style=\"text-align: right;\">\n",
       "      <th></th>\n",
       "      <th>app_num</th>\n",
       "      <th>abst</th>\n",
       "    </tr>\n",
       "  </thead>\n",
       "  <tbody>\n",
       "    <tr>\n",
       "      <th>0</th>\n",
       "      <td>9840278</td>\n",
       "      <td>a control system for a vehicle includes a stee...</td>\n",
       "    </tr>\n",
       "    <tr>\n",
       "      <th>1</th>\n",
       "      <td>9590078</td>\n",
       "      <td>a semiconductor device fabrication method incl...</td>\n",
       "    </tr>\n",
       "    <tr>\n",
       "      <th>2</th>\n",
       "      <td>9726116</td>\n",
       "      <td>a gas mixer for mixing a first gas and a secon...</td>\n",
       "    </tr>\n",
       "    <tr>\n",
       "      <th>3</th>\n",
       "      <td>9703092</td>\n",
       "      <td>an optical filter includes: a lower substrate;...</td>\n",
       "    </tr>\n",
       "    <tr>\n",
       "      <th>4</th>\n",
       "      <td>9764943</td>\n",
       "      <td>a mems structure includes a planar substrate, ...</td>\n",
       "    </tr>\n",
       "  </tbody>\n",
       "</table>\n",
       "</div>"
      ],
      "text/plain": [
       "   app_num                                               abst\n",
       "0  9840278  a control system for a vehicle includes a stee...\n",
       "1  9590078  a semiconductor device fabrication method incl...\n",
       "2  9726116  a gas mixer for mixing a first gas and a secon...\n",
       "3  9703092  an optical filter includes: a lower substrate;...\n",
       "4  9764943  a mems structure includes a planar substrate, ..."
      ]
     },
     "execution_count": 5,
     "metadata": {},
     "output_type": "execute_result"
    }
   ],
   "source": [
    "# Pandas를 이용하여 대량 처리를 하는 방법\n",
    "data['abst'] = data['abst'].str.lower()\n",
    "data.head()"
   ]
  },
  {
   "cell_type": "markdown",
   "metadata": {},
   "source": [
    "##### 1.2 숫자, 특수문자, 공백 제거"
   ]
  },
  {
   "cell_type": "code",
   "execution_count": 6,
   "metadata": {},
   "outputs": [
    {
     "name": "stdout",
     "output_type": "stream",
     "text": [
      "WPXRPXSAWSKH\n",
      "hatawelcomeforihoneihoneandppleatcheriesinoreathisweekendopeyouenjoy\n",
      "4\n",
      "따뜻한고맙습니다\n",
      "What a 따뜻한 welcome for iPhone XR iPhone XS and Apple Watch Series 4 in Korea this weekend 고맙습니다 Hope you enjoy \n"
     ]
    }
   ],
   "source": [
    "# Python 내장 re 라이브러리를 이용하는 방법\n",
    "import re\n",
    "\n",
    "sample = \"What a 따뜻한 welcome for iPhone XR, iPhone XS and Apple Watch Series 4 in Korea this weekend! 고맙습니다! Hope you enjoy! 🎉\"\n",
    "UPPER = re.sub('[^A-Z]', '', sample)\n",
    "print(UPPER)\n",
    "lower = re.sub('[^a-z]', '', sample)\n",
    "print(lower)\n",
    "number = re.sub('[^0-9]', '', sample)\n",
    "print(number)\n",
    "korean = re.sub('[^가-힣]', '', sample)\n",
    "print(korean)\n",
    "result = re.sub('[^a-zA-Z0-9가-힣\\s]', '', sample)\n",
    "print(result)"
   ]
  },
  {
   "cell_type": "code",
   "execution_count": 7,
   "metadata": {},
   "outputs": [
    {
     "data": {
      "text/html": [
       "<div>\n",
       "<style scoped>\n",
       "    .dataframe tbody tr th:only-of-type {\n",
       "        vertical-align: middle;\n",
       "    }\n",
       "\n",
       "    .dataframe tbody tr th {\n",
       "        vertical-align: top;\n",
       "    }\n",
       "\n",
       "    .dataframe thead th {\n",
       "        text-align: right;\n",
       "    }\n",
       "</style>\n",
       "<table border=\"1\" class=\"dataframe\">\n",
       "  <thead>\n",
       "    <tr style=\"text-align: right;\">\n",
       "      <th></th>\n",
       "      <th>app_num</th>\n",
       "      <th>abst</th>\n",
       "    </tr>\n",
       "  </thead>\n",
       "  <tbody>\n",
       "    <tr>\n",
       "      <th>0</th>\n",
       "      <td>9840278</td>\n",
       "      <td>a control system for a vehicle includes a stee...</td>\n",
       "    </tr>\n",
       "    <tr>\n",
       "      <th>1</th>\n",
       "      <td>9590078</td>\n",
       "      <td>a semiconductor device fabrication method incl...</td>\n",
       "    </tr>\n",
       "    <tr>\n",
       "      <th>2</th>\n",
       "      <td>9726116</td>\n",
       "      <td>a gas mixer for mixing a first gas and a secon...</td>\n",
       "    </tr>\n",
       "    <tr>\n",
       "      <th>3</th>\n",
       "      <td>9703092</td>\n",
       "      <td>an optical filter includes a lower substrate a...</td>\n",
       "    </tr>\n",
       "    <tr>\n",
       "      <th>4</th>\n",
       "      <td>9764943</td>\n",
       "      <td>a mems structure includes a planar substrate a...</td>\n",
       "    </tr>\n",
       "  </tbody>\n",
       "</table>\n",
       "</div>"
      ],
      "text/plain": [
       "   app_num                                               abst\n",
       "0  9840278  a control system for a vehicle includes a stee...\n",
       "1  9590078  a semiconductor device fabrication method incl...\n",
       "2  9726116  a gas mixer for mixing a first gas and a secon...\n",
       "3  9703092  an optical filter includes a lower substrate a...\n",
       "4  9764943  a mems structure includes a planar substrate a..."
      ]
     },
     "execution_count": 7,
     "metadata": {},
     "output_type": "execute_result"
    }
   ],
   "source": [
    "# Pandas를 이용하여 대량 처리를 하는 방법\n",
    "data['abst'] = data['abst'].str.replace('[^a-zA-Z0-9가-힣\\s]', '', regex=True)\n",
    "data.head()"
   ]
  },
  {
   "cell_type": "markdown",
   "metadata": {},
   "source": [
    "##### 1.3 키워드 추출"
   ]
  },
  {
   "cell_type": "code",
   "execution_count": 8,
   "metadata": {},
   "outputs": [
    {
     "name": "stdout",
     "output_type": "stream",
     "text": [
      "[nltk_data] Downloading package stopwords to\n",
      "[nltk_data]     C:\\Users\\user\\AppData\\Roaming\\nltk_data...\n",
      "[nltk_data]   Package stopwords is already up-to-date!\n"
     ]
    },
    {
     "data": {
      "text/plain": [
       "True"
      ]
     },
     "execution_count": 8,
     "metadata": {},
     "output_type": "execute_result"
    }
   ],
   "source": [
    "# rake (Rapid automatic keyword extraction) 알고리즘을 이용한 방법\n",
    "import nltk\n",
    "nltk.download('stopwords') # rake_nltk를 사용하기 위해서 필요"
   ]
  },
  {
   "cell_type": "code",
   "execution_count": 9,
   "metadata": {},
   "outputs": [
    {
     "name": "stdout",
     "output_type": "stream",
     "text": [
      "['terrain management mode', 'first instantaneous position', 'rotatable rotary element', 'rotary element', 'vehicle includes', 'steering system', 'control system', 'input including', 'controller receives', 'receives', 'input', 'controller', 'activating', 'activates']\n"
     ]
    }
   ],
   "source": [
    "from rake_nltk import Rake\n",
    "extractor = Rake(language='english', min_length=1, max_length=3)\n",
    "extractor.extract_keywords_from_text(sample_str)\n",
    "keywords = extractor.get_ranked_phrases()\n",
    "\n",
    "print(keywords)"
   ]
  },
  {
   "cell_type": "code",
   "execution_count": 10,
   "metadata": {},
   "outputs": [
    {
     "name": "stdout",
     "output_type": "stream",
     "text": [
      "[A control system, a vehicle, a steering system, an input, a rotatable rotary element, a controller, The controller, a trailer backup assist mode initiation command, the input, a trailer backup mode, a vehicle steering command, a first instantaneous position, the rotary element, the steering system, The controller, a terrain management mode initiation command, the input, a terrain management mode]\n"
     ]
    }
   ],
   "source": [
    "# spaCy를 이용하여 명사구(Noun phrase chunk)만 추출하는 방법\n",
    "import spacy\n",
    "extractor = spacy.load('en_core_web_sm')\n",
    "\n",
    "doc = extractor(sample_str)\n",
    "keywords = list(doc.noun_chunks)\n",
    "            \n",
    "print(keywords)"
   ]
  },
  {
   "cell_type": "code",
   "execution_count": 11,
   "metadata": {},
   "outputs": [
    {
     "name": "stderr",
     "output_type": "stream",
     "text": [
      "C:\\Users\\user\\Anaconda3\\envs\\main\\lib\\site-packages\\konlpy\\tag\\_okt.py:16: UserWarning: \"Twitter\" has changed to \"Okt\" since KoNLPy v0.4.5.\n",
      "  warn('\"Twitter\" has changed to \"Okt\" since KoNLPy v0.4.5.')\n"
     ]
    },
    {
     "name": "stdout",
     "output_type": "stream",
     "text": [
      "['후쿠시마 등 8 개 현', '수산물 분쟁', '패소', '일본', '국내외 소비', '영향', '우려', '한국', '수입 재개', '요청', '2020년 도쿄 올림픽', '후쿠시마 산 농 수산물 적극 활용', '계획']\n"
     ]
    }
   ],
   "source": [
    "# KoNLPy로 한국어 명사구를 추출하는 방법\n",
    "import konlpy\n",
    "import nltk\n",
    "\n",
    "sentence_ko = \"\"\"후쿠시마 등 8개 현의 수산물 분쟁에서 패소한 일본이 국내외 소비에 미치는 영향을 우려해 한국의 수입 재개를 끈질기게 요청하고, \n",
    "            2020년 도쿄 올림픽에서 ‘후쿠시마산 농수산물 적극 활용한다’는 계획을 밝혔다.\"\"\"\n",
    "words = konlpy.tag.Twitter().pos(sentence_ko)\n",
    "\n",
    "parser = nltk.RegexpParser('NP: {<N.*>*<Suffix>?}')\n",
    "chunks = parser.parse(words)\n",
    "\n",
    "noun_chunks = []\n",
    "for subtree in chunks.subtrees():\n",
    "    if subtree.label()=='NP':\n",
    "        noun_chunks.append(' '.join((e[0] for e in list(subtree))))\n",
    "print(noun_chunks)"
   ]
  },
  {
   "cell_type": "markdown",
   "metadata": {},
   "source": [
    "##### 1.4 Tokenize"
   ]
  },
  {
   "cell_type": "code",
   "execution_count": 12,
   "metadata": {},
   "outputs": [
    {
     "name": "stdout",
     "output_type": "stream",
     "text": [
      "['A', 'control', 'system', 'for', 'a', 'vehicle', 'includes', 'a', 'steering', 'system', ',', 'an', 'input', 'including', 'a', 'rotatable', 'rotary', 'element', ',', 'and', 'a', 'controller', '.', 'The', 'controller', 'receives', 'a', 'trailer', 'backup', 'assist', 'mode', 'initiation', 'command', 'from', 'the', 'input', 'and', 'activates', 'a', 'trailer', 'backup', 'mode', 'including', 'outputting', 'a', 'vehicle', 'steering', 'command', 'based', 'on', 'a', 'first', 'instantaneous', 'position', 'of', 'the', 'rotary', 'element', 'to', 'the', 'steering', 'system', '.', 'The', 'controller', 'further', 'receives', 'a', 'terrain', 'management', 'mode', 'initiation', 'command', 'from', 'the', 'input', 'and', 'activating', 'a', 'terrain', 'management', 'mode', '.']\n"
     ]
    }
   ],
   "source": [
    "from nltk.tokenize import word_tokenize\n",
    "\n",
    "tokens = word_tokenize(sample_str)\n",
    "print(tokens)"
   ]
  },
  {
   "cell_type": "markdown",
   "metadata": {},
   "source": [
    "##### 1.5 불용어 제거"
   ]
  },
  {
   "cell_type": "code",
   "execution_count": 13,
   "metadata": {},
   "outputs": [
    {
     "name": "stdout",
     "output_type": "stream",
     "text": [
      "['i', 'me', 'my', 'myself', 'we', 'our', 'ours', 'ourselves', 'you', \"you're\", \"you've\", \"you'll\", \"you'd\", 'your', 'yours', 'yourself', 'yourselves', 'he', 'him', 'his', 'himself', 'she', \"she's\", 'her', 'hers', 'herself', 'it', \"it's\", 'its', 'itself', 'they', 'them', 'their', 'theirs', 'themselves', 'what', 'which', 'who', 'whom', 'this', 'that', \"that'll\", 'these', 'those', 'am', 'is', 'are', 'was', 'were', 'be', 'been', 'being', 'have', 'has', 'had', 'having', 'do', 'does', 'did', 'doing', 'a', 'an', 'the', 'and', 'but', 'if', 'or', 'because', 'as', 'until', 'while', 'of', 'at', 'by', 'for', 'with', 'about', 'against', 'between', 'into', 'through', 'during', 'before', 'after', 'above', 'below', 'to', 'from', 'up', 'down', 'in', 'out', 'on', 'off', 'over', 'under', 'again', 'further', 'then', 'once', 'here', 'there', 'when', 'where', 'why', 'how', 'all', 'any', 'both', 'each', 'few', 'more', 'most', 'other', 'some', 'such', 'no', 'nor', 'not', 'only', 'own', 'same', 'so', 'than', 'too', 'very', 's', 't', 'can', 'will', 'just', 'don', \"don't\", 'should', \"should've\", 'now', 'd', 'll', 'm', 'o', 're', 've', 'y', 'ain', 'aren', \"aren't\", 'couldn', \"couldn't\", 'didn', \"didn't\", 'doesn', \"doesn't\", 'hadn', \"hadn't\", 'hasn', \"hasn't\", 'haven', \"haven't\", 'isn', \"isn't\", 'ma', 'mightn', \"mightn't\", 'mustn', \"mustn't\", 'needn', \"needn't\", 'shan', \"shan't\", 'shouldn', \"shouldn't\", 'wasn', \"wasn't\", 'weren', \"weren't\", 'won', \"won't\", 'wouldn', \"wouldn't\"]\n",
      "frozenset({'hasnt', 'although', 'neither', 'six', 'above', 'than', 'thin', 'anyone', 'couldnt', 'hers', 'hundred', 'why', 'i', 'always', 'alone', 'part', 'noone', 'becoming', 'fifteen', 'full', 'seems', 'sometime', 'amount', 'un', 'at', 'wherein', 'else', 'ie', 'ltd', 'me', 'except', 'or', 'no', 'whereas', 'back', 'one', 'by', 'across', 'almost', 'everyone', 'very', 'when', 'an', 'co', 'everywhere', 'further', 'around', 'latterly', 'least', 'none', 'any', 'nothing', 'after', 'own', 'should', 'top', 'wherever', 'this', 'sometimes', 'himself', 'first', 'their', 'still', 'move', 'forty', 'itself', 'before', 'themselves', 'thence', 'third', 'never', 'via', 'con', 'what', 'who', 'get', 'nine', 'mill', 'sixty', 'less', 'might', 'others', 'becomes', 'thereby', 'towards', 'be', 'thereupon', 'these', 'call', 'afterwards', 'besides', 'my', 'five', 'also', 'both', 'since', 'being', 'where', 'yours', 'into', 'thru', 'formerly', 'such', 'whereupon', 'through', 'yourselves', 'even', 'under', 'along', 'for', 'out', 'please', 'to', 'without', 'eg', 'within', 'am', 'somewhere', 'all', 'describe', 'interest', 'perhaps', 'against', 'beside', 'due', 'again', 'here', 'herself', 'four', 'we', 'yourself', 'became', 'but', 'find', 'there', 'de', 'thick', 'have', 'nowhere', 'some', 'front', 'found', 'whereafter', 'with', 'toward', 'enough', 'whom', 'was', 'us', 'and', 'only', 'which', 'twelve', 'whoever', 'your', 'most', 'anything', 'below', 'bottom', 'do', 'made', 'somehow', 'moreover', 'empty', 'whenever', 'sincere', 'keep', 'anyhow', 'rather', 'fill', 'so', 'otherwise', 'seeming', 'them', 'off', 'per', 'last', 'ours', 'twenty', 'amoungst', 'indeed', 'system', 'were', 'hereupon', 'whence', 'every', 'now', 'then', 'two', 'ever', 'ourselves', 'cannot', 'three', 'whether', 'former', 'throughout', 'either', 'meanwhile', 'would', 'a', 'from', 'will', 'bill', 'eight', 'if', 'however', 'give', 'its', 'could', 'herein', 'more', 'mine', 'well', 'thus', 'yet', 'become', 'done', 'about', 'anyway', 'his', 'myself', 'on', 'see', 'that', 'beforehand', 'are', 'mostly', 'therefore', 'therein', 'as', 'elsewhere', 'the', 'too', 'may', 'until', 'go', 'has', 'been', 'nevertheless', 'she', 'how', 'several', 'whither', 'hereby', 'behind', 'show', 'between', 'in', 'seemed', 'take', 'together', 'of', 'cant', 'he', 'beyond', 'because', 'nor', 'whole', 'etc', 'latter', 'though', 'ten', 'amongst', 'fire', 'our', 'other', 'put', 'serious', 'many', 'everything', 'can', 'few', 'hence', 'same', 'they', 'it', 'anywhere', 'nobody', 'not', 'whose', 'something', 'side', 'is', 'up', 'inc', 'whatever', 'over', 'cry', 'among', 'down', 'eleven', 'onto', 'her', 'each', 'while', 'once', 'name', 'upon', 'during', 'fifty', 'much', 'already', 'detail', 'next', 're', 'whereby', 'must', 'someone', 'namely', 'you', 'seem', 'him', 'hereafter', 'had', 'thereafter', 'those', 'often', 'another'})\n",
      "{'although', 'neither', 'six', 'above', 'than', 'anyone', 'hers', 'hundred', 'i', 'always', 'alone', 'part', 'noone', 'becoming', 'fifteen', 'full', 'seems', 'sometime', 'amount', 'wherein', 'at', 'else', 'whereas', 'me', 'except', 'or', 'no', 'back', 'one', 'by', 'across', 'does', 'almost', 'everyone', 'very', 'when', 'an', 'everywhere', 'further', 'around', 'latterly', 'least', 'none', 'any', 'nothing', 'after', 'just', 'own', 'should', 'top', 'this', 'wherever', 'sometimes', 'himself', 'first', 'their', 'still', 'doing', 'move', 'forty', 'itself', 'before', 'themselves', 'thence', 'third', 'never', 'via', 'what', 'who', 'get', 'nine', 'sixty', 'less', 'might', 'others', 'becomes', 'thereby', 'towards', 'be', 'using', 'thereupon', 'these', 'call', 'afterwards', 'besides', 'my', 'make', 'five', 'also', 'both', 'being', 'where', 'yours', 'into', 'thru', 'formerly', 'such', 'whereupon', 'through', 'yourselves', 'even', 'under', 'along', 'used', 'for', 'out', 'please', 'to', 'without', 'within', 'am', 'quite', 'somewhere', 'all', 'perhaps', \"n't\", 'against', 'beside', 'due', 'again', 'here', 'herself', 'four', 'unless', 'we', 'yourself', 'became', 'but', 'there', 'have', 'nowhere', 'some', 'front', 'whereafter', 'with', 'various', 'toward', 'enough', 'whom', \"'ll\", 'was', 'us', 'and', 'only', 'which', 'twelve', 'whoever', 'your', 'most', 'anything', 'below', 'bottom', 'do', 'made', 'somehow', 'moreover', 'empty', 'whenever', 'ca', 'keep', 'anyhow', 'rather', 'so', 'them', 'otherwise', 'seeming', 'off', 'per', 'last', \"'m\", 'ours', 'twenty', 'indeed', 'were', 'hereupon', 'whence', 'every', 'now', 'then', 'two', 'ever', 'ourselves', 'cannot', 'three', 'whether', 'former', 'throughout', 'either', 'meanwhile', 'would', 'a', 'from', 'will', 'eight', 'if', 'its', 'however', 'give', 'more', 'could', 'herein', 'well', 'mine', 'why', 'thus', 'yet', 'become', 'done', 'about', 'anyway', 'his', 'myself', 'on', 'see', 'that', 'beforehand', 'are', 'mostly', 'therefore', 'therein', 'as', 'elsewhere', 'the', 'too', 'may', 'until', 'go', \"'ve\", 'has', 'been', 'nevertheless', 'she', 'how', 'several', 'whither', 'hereby', 'behind', 'regarding', 'between', 'in', 'show', \"'re\", 'seemed', 'take', \"'d\", 'together', 'of', 'he', 'beyond', 'because', 'nor', 'did', 'whole', 'latter', 'though', 'ten', 'amongst', 'our', 'since', 'other', 'put', 'serious', 'many', 'everything', 'can', 'few', 'hence', 'same', 'they', 'it', 'anywhere', 'nobody', 'not', 'whose', 'something', 'side', 'is', 'up', 'whatever', 'over', 'among', 'down', 'eleven', 'onto', 'her', 'each', 'say', 'while', 'once', 'name', 'upon', 'during', 'fifty', 'much', 'already', 'next', 're', 'whereby', 'must', 'really', 'namely', 'someone', 'seem', 'you', 'him', 'hereafter', 'had', \"'s\", 'thereafter', 'those', 'often', 'another'}\n"
     ]
    }
   ],
   "source": [
    "# stopwords lists\n",
    "from nltk.corpus import stopwords\n",
    "print(stopwords.words('english'))\n",
    "\n",
    "from sklearn.feature_extraction.stop_words import ENGLISH_STOP_WORDS\n",
    "print(ENGLISH_STOP_WORDS)\n",
    "\n",
    "from spacy.lang.en.stop_words import STOP_WORDS\n",
    "print(STOP_WORDS)"
   ]
  },
  {
   "cell_type": "code",
   "execution_count": 14,
   "metadata": {},
   "outputs": [
    {
     "name": "stdout",
     "output_type": "stream",
     "text": [
      "['A', 'control', 'system', 'vehicle', 'includes', 'steering', 'system', ',', 'input', 'including', 'rotatable', 'rotary', 'element', ',', 'controller', '.', 'The', 'controller', 'receives', 'trailer', 'backup', 'assist', 'mode', 'initiation', 'command', 'input', 'activates', 'trailer', 'backup', 'mode', 'including', 'outputting', 'vehicle', 'steering', 'command', 'based', 'first', 'instantaneous', 'position', 'rotary', 'element', 'steering', 'system', '.', 'The', 'controller', 'receives', 'terrain', 'management', 'mode', 'initiation', 'command', 'input', 'activating', 'terrain', 'management', 'mode', '.']\n"
     ]
    }
   ],
   "source": [
    "stop_words = set(stopwords.words('english'))\n",
    "\n",
    "tokens = word_tokenize(sample_str)\n",
    "tokens_without_stopwords = [i for i in tokens if not i in stop_words]\n",
    "print (tokens_without_stopwords)"
   ]
  },
  {
   "cell_type": "markdown",
   "metadata": {},
   "source": [
    "##### 1.6 Stemming & Lemmatizing"
   ]
  },
  {
   "cell_type": "code",
   "execution_count": 15,
   "metadata": {},
   "outputs": [
    {
     "name": "stdout",
     "output_type": "stream",
     "text": [
      "['A', 'control', 'system', 'vehicl', 'includ', 'steer', 'system', ',', 'input', 'includ', 'rotat', 'rotari', 'element', ',', 'control', '.', 'the', 'control', 'receiv', 'trailer', 'backup', 'assist', 'mode', 'initi', 'command', 'input', 'activ', 'trailer', 'backup', 'mode', 'includ', 'output', 'vehicl', 'steer', 'command', 'base', 'first', 'instantan', 'posit', 'rotari', 'element', 'steer', 'system', '.', 'the', 'control', 'receiv', 'terrain', 'manag', 'mode', 'initi', 'command', 'input', 'activ', 'terrain', 'manag', 'mode', '.']\n"
     ]
    }
   ],
   "source": [
    "# Stemming (어간화)\n",
    "from nltk.stem import PorterStemmer\n",
    "\n",
    "stemmer= PorterStemmer()\n",
    "stems = [stemmer.stem(token) for token in tokens_without_stopwords]\n",
    "print(stems)"
   ]
  },
  {
   "cell_type": "code",
   "execution_count": 16,
   "metadata": {},
   "outputs": [
    {
     "name": "stdout",
     "output_type": "stream",
     "text": [
      "['A', 'control', 'system', 'vehicle', 'includes', 'steering', 'system', ',', 'input', 'including', 'rotatable', 'rotary', 'element', ',', 'controller', '.', 'The', 'controller', 'receives', 'trailer', 'backup', 'assist', 'mode', 'initiation', 'command', 'input', 'activates', 'trailer', 'backup', 'mode', 'including', 'outputting', 'vehicle', 'steering', 'command', 'based', 'first', 'instantaneous', 'position', 'rotary', 'element', 'steering', 'system', '.', 'The', 'controller', 'receives', 'terrain', 'management', 'mode', 'initiation', 'command', 'input', 'activating', 'terrain', 'management', 'mode', '.']\n"
     ]
    }
   ],
   "source": [
    "# Lemmatizing\n",
    "from nltk.stem import WordNetLemmatizer\n",
    "\n",
    "lematizer = WordNetLemmatizer()\n",
    "lemmas = [lematizer.lemmatize(token) for token in tokens_without_stopwords]\n",
    "print(lemmas)"
   ]
  },
  {
   "cell_type": "markdown",
   "metadata": {},
   "source": [
    "##### 1.7 Term frequency matrix"
   ]
  },
  {
   "cell_type": "code",
   "execution_count": 17,
   "metadata": {},
   "outputs": [],
   "source": [
    "sample_corpus = data[0:10].abst.values #10개 문서만 사용"
   ]
  },
  {
   "cell_type": "code",
   "execution_count": 18,
   "metadata": {},
   "outputs": [],
   "source": [
    "from sklearn.feature_extraction.text import CountVectorizer\n",
    "\n",
    "vectorizer = CountVectorizer(stop_words='english')\n",
    "TFM = vectorizer.fit_transform(sample_corpus)"
   ]
  },
  {
   "cell_type": "code",
   "execution_count": 19,
   "metadata": {},
   "outputs": [
    {
     "name": "stdout",
     "output_type": "stream",
     "text": [
      "['10', 'able', 'activates', 'activating', 'adjacent', 'adjusts', 'adsorbed', 'aid', 'aligned', 'allow']\n",
      "[0 0 1 1 0 0 0 0 0 0 0 0 0 0 0 0 0 0 1 0 0 2 0 0 1 0 0 0 0 0 0 0 0 0 0 3 0\n",
      " 0 0 0 0 0 0 0 0 0 1 3 0 0 0 0 0 0 0 0 0 0 0 0 0 0 0 0 0 0 0 0 0 0 0 0 0 0\n",
      " 2 0 0 0 0 0 0 0 0 0 0 0 0 0 0 0 0 0 0 0 0 0 0 0 0 0 0 0 0 0 0 0 0 0 0 0 0\n",
      " 0 0 0 0 0 0 0 0 0 0 1 2 2 0 3 0 1 0 0 0 0 0 0 0 0 0 0 0 0 0 0 0 0 0 0 2 0\n",
      " 0 0 0 0 0 0 0 0 0 4 0 0 0 0 0 0 0 0 0 0 0 0 0 0 1 0 0 0 0 0 0 0 0 0 0 0 0\n",
      " 0 0 1 0 0 0 0 0 0 0 0 0 0 0 0 0 0 0 0 2 0 0 0 0 0 0 0 0 0 0 0 0 0 0 0 2 1\n",
      " 0 0 0 0 0 0 0 0 0 0 0 0 0 0 0 0 0 0 3 0 0 0 0 0 0 0 0 0 0 0 0 0 0 2 0 2 0\n",
      " 0 0 0 0 0 0 0 0 2 0 0 0 0 0 0 0]\n"
     ]
    }
   ],
   "source": [
    "print(vectorizer.get_feature_names()[0:10])\n",
    "print(TFM.toarray()[0])"
   ]
  },
  {
   "cell_type": "code",
   "execution_count": 20,
   "metadata": {},
   "outputs": [],
   "source": [
    "# bi-gram TF\n",
    "bi_vectorizer = CountVectorizer(ngram_range=(2,2), stop_words='english')\n",
    "bi_TFM = bi_vectorizer.fit_transform(sample_corpus)"
   ]
  },
  {
   "cell_type": "code",
   "execution_count": 21,
   "metadata": {},
   "outputs": [
    {
     "name": "stdout",
     "output_type": "stream",
     "text": [
      "['10 pulled', 'able grip', 'able placed', 'able properly', 'activates trailer', 'activating terrain', 'adjacent heating', 'adjusts output', 'adsorbed boron', 'aid vacuum']\n",
      "[0 0 0 0 1 1 0 0 0 0 0 0 0 0 0 0 0 0 0 0 0 0 0 0 0 1 0 0 0 0 0 0 0 0 1 1 0\n",
      " 0 0 1 0 0 0 0 0 0 0 0 0 0 0 0 0 0 0 0 0 0 0 0 0 0 1 2 0 0 0 0 0 0 0 0 0 0\n",
      " 0 0 0 0 0 0 0 0 0 0 0 0 0 1 1 2 0 0 0 0 0 0 0 0 0 0 0 0 0 0 0 0 0 0 0 0 0\n",
      " 0 0 0 0 0 0 0 0 0 0 0 0 0 0 0 0 0 0 0 0 0 0 0 1 0 1 0 0 0 0 0 0 0 0 0 0 0\n",
      " 0 0 0 0 0 0 0 0 0 0 0 0 0 0 0 0 0 0 0 0 0 0 0 0 0 0 0 0 0 0 0 0 0 0 0 0 0\n",
      " 0 0 0 0 0 0 0 0 0 0 0 0 0 0 0 0 0 0 0 0 0 0 0 0 0 0 0 0 0 0 0 0 0 0 0 0 0\n",
      " 0 0 0 0 0 0 0 0 0 0 0 0 0 0 0 0 0 0 0 1 0 0 1 1 2 0 0 1 1 1 0 1 0 0 0 0 0\n",
      " 0 0 0 0 0 0 0 0 0 0 0 0 0 0 0 0 0 2 0 0 0 0 0 0 0 0 0 0 0 0 0 0 0 1 2 0 0\n",
      " 0 0 0 0 0 0 0 0 0 0 0 0 0 0 0 0 0 0 0 1 0 0 0 0 0 0 0 0 0 0 0 0 0 0 0 0 0\n",
      " 0 0 0 1 0 0 0 0 0 0 0 0 0 0 0 0 0 0 0 0 0 0 0 0 1 1 0 0 0 0 0 0 0 0 0 0 0\n",
      " 0 0 0 0 0 0 0 0 0 0 0 0 0 2 1 0 0 0 0 0 0 0 0 0 0 0 0 0 0 0 0 0 0 0 0 0 0\n",
      " 0 0 0 0 0 0 0 0 0 0 0 0 0 0 0 0 0 0 1 1 1 0 0 0 0 0 0 0 0 0 0 0 0 0 0 0 0\n",
      " 0 0 0 0 0 0 0 0 0 0 0 0 0 0 0 0 0 0 0 0 2 0 2 0 0 0 0 0 0 0 0 0 0 0 0 0 0\n",
      " 0 1 1 0 0 0 0 0 0 0 0 0 0 0 0 0]\n"
     ]
    }
   ],
   "source": [
    "print(bi_vectorizer.get_feature_names()[0:10])\n",
    "print(bi_TFM.toarray()[0])"
   ]
  },
  {
   "cell_type": "code",
   "execution_count": 22,
   "metadata": {},
   "outputs": [],
   "source": [
    "vectorizer = CountVectorizer(stop_words='english', vocabulary=set(tokens_without_stopwords))\n",
    "TFM = vectorizer.fit_transform(sample_corpus)"
   ]
  },
  {
   "cell_type": "code",
   "execution_count": 23,
   "metadata": {},
   "outputs": [
    {
     "name": "stdout",
     "output_type": "stream",
     "text": [
      "[',', '.', 'A', 'The', 'activates', 'activating', 'assist', 'backup', 'based', 'command', 'control', 'controller', 'element', 'first', 'includes']\n",
      "[0 0 0 0 1 1 1 2 1 3 1 3 2 0 1 2 2 3 1 2 4 1 1 2 2 1 3 0 2 2 2]\n"
     ]
    }
   ],
   "source": [
    "print(vectorizer.get_feature_names()[0:15])\n",
    "print(TFM.toarray()[0])"
   ]
  },
  {
   "cell_type": "code",
   "execution_count": 24,
   "metadata": {},
   "outputs": [],
   "source": [
    "# TFM을 TF-IDF로 변경하는 방법 \n",
    "from sklearn.feature_extraction.text import TfidfTransformer\n",
    "\n",
    "transformer = TfidfTransformer()\n",
    "TFIDF = transformer.fit_transform(TFM)"
   ]
  },
  {
   "cell_type": "code",
   "execution_count": 25,
   "metadata": {},
   "outputs": [
    {
     "name": "stdout",
     "output_type": "stream",
     "text": [
      "[',', '.', 'A', 'The', 'activates', 'activating', 'assist', 'backup', 'based', 'command', 'control', 'controller', 'element', 'first', 'includes']\n",
      "[0.         0.         0.         0.         0.10027382 0.10027382\n",
      " 0.10027382 0.20054765 0.10027382 0.30082147 0.0745766  0.30082147\n",
      " 0.17048382 0.         0.05382982 0.20054765 0.20054765 0.30082147\n",
      " 0.10027382 0.20054765 0.40109529 0.10027382 0.08524191 0.20054765\n",
      " 0.20054765 0.10027382 0.30082147 0.         0.20054765 0.20054765\n",
      " 0.20054765]\n"
     ]
    }
   ],
   "source": [
    "print(vectorizer.get_feature_names()[0:15])\n",
    "print(TFIDF.toarray()[0])"
   ]
  },
  {
   "cell_type": "code",
   "execution_count": 26,
   "metadata": {},
   "outputs": [],
   "source": [
    "# corpus에서 바로 TF-IDF 행렬 만드는 방법\n",
    "from sklearn.feature_extraction.text import TfidfVectorizer\n",
    "\n",
    "tfidf_vectorizer = TfidfVectorizer(stop_words='english', vocabulary=set(tokens_without_stopwords)) # parameters는 CountVectorizer와 같음\n",
    "TFIDF = tfidf_vectorizer.fit_transform(sample_corpus)"
   ]
  },
  {
   "cell_type": "code",
   "execution_count": 27,
   "metadata": {},
   "outputs": [
    {
     "name": "stdout",
     "output_type": "stream",
     "text": [
      "[',', '.', 'A', 'The', 'activates', 'activating', 'assist', 'backup', 'based', 'command', 'control', 'controller', 'element', 'first', 'includes']\n",
      "[0.         0.         0.         0.         0.10027382 0.10027382\n",
      " 0.10027382 0.20054765 0.10027382 0.30082147 0.0745766  0.30082147\n",
      " 0.17048382 0.         0.05382982 0.20054765 0.20054765 0.30082147\n",
      " 0.10027382 0.20054765 0.40109529 0.10027382 0.08524191 0.20054765\n",
      " 0.20054765 0.10027382 0.30082147 0.         0.20054765 0.20054765\n",
      " 0.20054765]\n"
     ]
    }
   ],
   "source": [
    "print(tfidf_vectorizer.get_feature_names()[0:15])\n",
    "print(TFIDF.toarray()[0])"
   ]
  },
  {
   "cell_type": "markdown",
   "metadata": {},
   "source": [
    "#### 2. Text analytics\n",
    "##### 2.1 Document similarity"
   ]
  },
  {
   "cell_type": "code",
   "execution_count": 28,
   "metadata": {},
   "outputs": [
    {
     "name": "stdout",
     "output_type": "stream",
     "text": [
      "['a control system for a vehicle includes a steering system an input including a rotatable rotary element and a controller the controller receives a trailer backup assist mode initiation command from the input and activates a trailer backup mode including outputting a vehicle steering command based on a first instantaneous position of the rotary element to the steering system the controller further receives a terrain management mode initiation command from the input and activating a terrain management mode'\n",
      " 'a semiconductor device fabrication method includes forming a tunnel insulating film on a substrate containing silicon forming a floating gate on the tunnel insulating film forming an integral insulating film on the floating gate and forming a control gate on the integral insulating film the floating gate is formed on the tunnel insulating film by forming a seed layer containing amorphous silicon on the tunnel insulating film forming an impurity later containing adsorbed boron or germanium on the seed layer and forming a cap layer containing silicon on the impurity layer']\n",
      "[[0 0 1 1 0 0 0 0 0 0 0 0 0 0 0 0 0 0 1 0 0 2 0 0 1 0 0 0 0 0 0 0 0 0 0 3\n",
      "  0 0 0 0 0 0 0 0 0 0 1 3 0 0 0 0 0 0 0 0 0 0 0 0 0 0 0 0 0 0 0 0 0 0 0 0\n",
      "  0 0 2 0 0 0 0 0 0 0 0 0 0 0 0 0 0 0 0 0 0 0 0 0 0 0 0 0 0 0 0 0 0 0 0 0\n",
      "  0 0 0 0 0 0 0 0 0 0 0 0 0 1 2 2 0 3 0 1 0 0 0 0 0 0 0 0 0 0 0 0 0 0 0 0\n",
      "  0 0 2 0 0 0 0 0 0 0 0 0 0 4 0 0 0 0 0 0 0 0 0 0 0 0 0 0 1 0 0 0 0 0 0 0\n",
      "  0 0 0 0 0 0 0 1 0 0 0 0 0 0 0 0 0 0 0 0 0 0 0 0 2 0 0 0 0 0 0 0 0 0 0 0\n",
      "  0 0 0 0 2 1 0 0 0 0 0 0 0 0 0 0 0 0 0 0 0 0 0 0 3 0 0 0 0 0 0 0 0 0 0 0\n",
      "  0 0 0 2 0 2 0 0 0 0 0 0 0 0 0 2 0 0 0 0 0 0 0]\n",
      " [0 0 0 0 0 0 1 0 0 0 0 1 0 0 0 0 0 0 0 0 0 0 0 0 0 0 0 1 1 0 0 0 0 0 0 0\n",
      "  0 0 0 0 0 0 0 0 0 4 1 0 0 0 0 0 0 0 0 0 0 0 0 0 1 0 0 0 0 0 0 0 0 0 0 0\n",
      "  0 0 0 0 0 0 0 0 0 0 0 1 0 0 0 0 6 0 0 0 0 3 0 0 0 0 1 7 0 0 0 0 4 0 0 1\n",
      "  0 0 0 0 0 0 0 0 0 0 0 2 0 1 0 0 0 0 0 0 6 0 2 0 0 0 0 0 0 0 0 1 4 0 0 0\n",
      "  0 0 0 0 0 0 0 1 0 0 0 0 0 0 0 0 0 0 0 0 0 0 0 0 0 0 0 0 0 0 0 0 0 0 0 0\n",
      "  0 0 0 0 0 0 0 0 0 0 0 0 0 0 0 0 0 0 0 0 0 0 0 0 0 0 0 0 0 0 0 0 0 0 0 0\n",
      "  0 0 0 0 0 0 0 0 0 0 0 0 2 1 0 0 0 0 0 3 0 0 0 0 0 0 0 0 0 1 0 0 0 0 0 0\n",
      "  0 0 0 0 0 0 0 0 0 4 0 0 0 0 0 0 0 0 0 0 0 0 0]]\n"
     ]
    }
   ],
   "source": [
    "vectorizer = CountVectorizer(stop_words='english')\n",
    "TFM = vectorizer.fit_transform(sample_corpus)\n",
    "print(sample_corpus[0:2])\n",
    "print(TFM.toarray()[0:2])"
   ]
  },
  {
   "cell_type": "code",
   "execution_count": 29,
   "metadata": {},
   "outputs": [
    {
     "name": "stdout",
     "output_type": "stream",
     "text": [
      "[[1.         0.01308616 0.         0.00924323 0.01332091 0.04541633\n",
      "  0.         0.00825123 0.01570476 0.        ]\n",
      " [0.01308616 1.         0.00287312 0.02775993 0.03111603 0.01347137\n",
      "  0.         0.01101364 0.04192506 0.        ]\n",
      " [0.         0.00287312 1.         0.05682296 0.02924664 0.01994272\n",
      "  0.         0.37681159 0.0068961  0.        ]\n",
      " [0.00924323 0.02775993 0.05682296 1.         0.17582699 0.01427298\n",
      "  0.         0.05056567 0.22950216 0.        ]\n",
      " [0.01332091 0.03111603 0.02924664 0.17582699 1.         0.01714129\n",
      "  0.         0.03363364 0.28273604 0.        ]\n",
      " [0.04541633 0.01347137 0.01994272 0.01427298 0.01714129 1.\n",
      "  0.00405454 0.01274118 0.02829236 0.00805823]\n",
      " [0.         0.         0.         0.         0.         0.00405454\n",
      "  1.         0.         0.01892754 0.01257887]\n",
      " [0.00825123 0.01101364 0.37681159 0.05056567 0.03363364 0.01274118\n",
      "  0.         1.         0.01321753 0.        ]\n",
      " [0.01570476 0.04192506 0.0068961  0.22950216 0.28273604 0.02829236\n",
      "  0.01892754 0.01321753 1.         0.        ]\n",
      " [0.         0.         0.         0.         0.         0.00805823\n",
      "  0.01257887 0.         0.         1.        ]]\n"
     ]
    }
   ],
   "source": [
    "# 코사인 유사도에 의한 방법\n",
    "from sklearn.metrics.pairwise import cosine_similarity\n",
    "\n",
    "cos_sim = cosine_similarity(TFM)\n",
    "print(cos_sim)"
   ]
  },
  {
   "cell_type": "code",
   "execution_count": 30,
   "metadata": {},
   "outputs": [
    {
     "name": "stdout",
     "output_type": "stream",
     "text": [
      "[1.0, 0.8290909090909091, 0.7890909090909091, 0.8327272727272728, 0.7636363636363637, 0.7709090909090909, 0.7818181818181819, 0.7963636363636364, 0.7381818181818182, 0.8290909090909091]\n",
      "[0.8290909090909091, 1.0, 0.7927272727272727, 0.8327272727272728, 0.7636363636363637, 0.7709090909090909, 0.7781818181818182, 0.8, 0.7381818181818182, 0.8254545454545454]\n",
      "[0.7890909090909091, 0.7927272727272727, 1.0, 0.8036363636363636, 0.7527272727272727, 0.7381818181818182, 0.7527272727272727, 0.7927272727272727, 0.7090909090909091, 0.8]\n",
      "[0.8327272727272728, 0.8327272727272728, 0.8036363636363636, 1.0, 0.7963636363636364, 0.7781818181818182, 0.7927272727272727, 0.8072727272727273, 0.7563636363636363, 0.84]\n",
      "[0.7636363636363637, 0.7636363636363637, 0.7527272727272727, 0.7963636363636364, 1.0, 0.7127272727272728, 0.7236363636363636, 0.7636363636363637, 0.6981818181818182, 0.7709090909090909]\n",
      "[0.7709090909090909, 0.7709090909090909, 0.7381818181818182, 0.7781818181818182, 0.7127272727272728, 1.0, 0.7272727272727273, 0.7381818181818182, 0.6909090909090909, 0.7745454545454545]\n",
      "[0.7818181818181819, 0.7781818181818182, 0.7527272727272727, 0.7927272727272727, 0.7236363636363636, 0.7272727272727273, 1.0, 0.7527272727272727, 0.7090909090909091, 0.8]\n",
      "[0.7963636363636364, 0.8, 0.7927272727272727, 0.8072727272727273, 0.7636363636363637, 0.7381818181818182, 0.7527272727272727, 1.0, 0.7090909090909091, 0.8]\n",
      "[0.7381818181818182, 0.7381818181818182, 0.7090909090909091, 0.7563636363636363, 0.6981818181818182, 0.6909090909090909, 0.7090909090909091, 0.7090909090909091, 1.0, 0.7454545454545455]\n",
      "[0.8290909090909091, 0.8254545454545454, 0.8, 0.84, 0.7709090909090909, 0.7745454545454545, 0.8, 0.8, 0.7454545454545455, 1.0]\n"
     ]
    }
   ],
   "source": [
    "# 자카드 계수에 의한 방법\n",
    "from sklearn.metrics import jaccard_similarity_score\n",
    "\n",
    "jar_sim = [[jaccard_similarity_score(a, b) for b in TFM.toarray()] for a in TFM.toarray()]\n",
    "\n",
    "for row in jar_sim:\n",
    "    print(row)"
   ]
  },
  {
   "cell_type": "markdown",
   "metadata": {},
   "source": [
    "##### 2.2 Generalized VSM"
   ]
  },
  {
   "cell_type": "code",
   "execution_count": 31,
   "metadata": {},
   "outputs": [
    {
     "name": "stdout",
     "output_type": "stream",
     "text": [
      "[[102   2   0   2   2   9   0   1   2   0]\n",
      " [  2 229   1   9   7   4   0   2   8   0]\n",
      " [  0   1 529  28  10   9   0 104   2   0]\n",
      " [  2   9  28 459  56   6   0  13  62   0]\n",
      " [  2   7  10  56 221   5   0   6  53   0]\n",
      " [  9   4   9   6   5 385   1   3   7   1]\n",
      " [  0   0   0   0   0   1 158   0   3   1]\n",
      " [  1   2 104  13   6   3   0 144   2   0]\n",
      " [  2   8   2  62  53   7   3   2 159   0]\n",
      " [  0   0   0   0   0   1   1   0   0  40]]\n"
     ]
    }
   ],
   "source": [
    "# G-VSM based Document correlation\n",
    "doc_corr = TFM*TFM.T\n",
    "print(doc_corr.toarray())"
   ]
  },
  {
   "cell_type": "code",
   "execution_count": 33,
   "metadata": {},
   "outputs": [
    {
     "data": {
      "image/png": "[encoded data removed]",
      "text/plain": [
       "<Figure size 360x360 with 1 Axes>"
      ]
     },
     "metadata": {},
     "output_type": "display_data"
    }
   ],
   "source": [
    "# drawing\n",
    "import networkx as nx\n",
    "import matplotlib.pyplot as plt\n",
    "\n",
    "G_d = nx.from_scipy_sparse_matrix(doc_corr)\n",
    "plt.figure(figsize=(5,5)) \n",
    "nx.draw_networkx(G_d)\n",
    "plt.show()"
   ]
  },
  {
   "cell_type": "code",
   "execution_count": 34,
   "metadata": {},
   "outputs": [
    {
     "name": "stdout",
     "output_type": "stream",
     "text": [
      "[[ 1  1  0 ...  0  0  0]\n",
      " [ 1  5  0 ...  0  0  0]\n",
      " [ 0  0  1 ...  0  0  0]\n",
      " ...\n",
      " [ 0  0  0 ...  4  0  0]\n",
      " [ 0  0  0 ...  0  4  0]\n",
      " [ 0  0  0 ...  0  0 25]]\n"
     ]
    }
   ],
   "source": [
    "# G-VSM based Term correlation\n",
    "term_corr = TFM.T*TFM\n",
    "print(term_corr.toarray())"
   ]
  },
  {
   "cell_type": "code",
   "execution_count": 35,
   "metadata": {},
   "outputs": [
    {
     "data": {
      "image/png": "[encoded data removed]",
      "text/plain": [
       "<Figure size 360x360 with 1 Axes>"
      ]
     },
     "metadata": {},
     "output_type": "display_data"
    }
   ],
   "source": [
    "G_t = nx.from_scipy_sparse_matrix(term_corr)\n",
    "plt.figure(figsize=(5,5)) \n",
    "nx.draw_networkx(G_t)\n",
    "plt.show()"
   ]
  },
  {
   "cell_type": "markdown",
   "metadata": {},
   "source": [
    "##### 2.3 Social network analysis"
   ]
  },
  {
   "cell_type": "code",
   "execution_count": 36,
   "metadata": {},
   "outputs": [
    {
     "name": "stdout",
     "output_type": "stream",
     "text": [
      "[2, 1]\n"
     ]
    }
   ],
   "source": [
    "# Dijkstra’s algorithm (shortest path)\n",
    "print(nx.dijkstra_path(G_d, 2, 1))"
   ]
  },
  {
   "cell_type": "code",
   "execution_count": 37,
   "metadata": {},
   "outputs": [
    {
     "name": "stdout",
     "output_type": "stream",
     "text": [
      "{0: 0.8888888888888888, 1: 1.0, 2: 0.8888888888888888, 3: 1.0, 4: 1.0, 5: 1.222222222222222, 6: 0.5555555555555556, 7: 1.0, 8: 1.1111111111111112, 9: 0.4444444444444444}\n",
      "{0: 0.3145806112951853, 1: 0.35447126035872367, 2: 0.3145806112951853, 3: 0.35447126035872367, 4: 0.35447126035872367, 5: 0.37875374718638355, 6: 0.11917645422327741, 7: 0.35447126035872367, 8: 0.3695839296272643, 9: 0.07231093295896728}\n"
     ]
    }
   ],
   "source": [
    "# Centralities\n",
    "print(nx.degree_centrality(G_d))\n",
    "print(nx.eigenvector_centrality(G_d))"
   ]
  },
  {
   "cell_type": "code",
   "execution_count": 38,
   "metadata": {},
   "outputs": [
    {
     "name": "stdout",
     "output_type": "stream",
     "text": [
      "({0, 1, 2, 3, 4, 5, 6, 7, 8}, {9})\n",
      "({0, 1, 2, 3, 4, 5, 7, 8}, {6}, {9})\n",
      "({0}, {1, 2, 3, 4, 5, 7, 8}, {6}, {9})\n"
     ]
    }
   ],
   "source": [
    "# Communities\n",
    "from networkx.algorithms import community\n",
    "\n",
    "communities_generator = community.girvan_newman(G_d)\n",
    "top_level_communities = next(communities_generator)\n",
    "print(top_level_communities)\n",
    "\n",
    "second_level_communities = next(communities_generator)\n",
    "print(second_level_communities)\n",
    "\n",
    "third_level_communities = next(communities_generator)\n",
    "print(third_level_communities)"
   ]
  },
  {
   "cell_type": "code",
   "execution_count": 39,
   "metadata": {},
   "outputs": [
    {
     "name": "stdout",
     "output_type": "stream",
     "text": [
      "(0, 9) -> 0.41703239\n",
      "(0, 2) -> 2.67180533\n",
      "(0, 6) -> 0.85132687\n",
      "(1, 9) -> 0.41703239\n",
      "(1, 6) -> 0.85132687\n",
      "(2, 9) -> 0.41703239\n",
      "(2, 6) -> 0.85132687\n",
      "(3, 9) -> 0.41703239\n",
      "(3, 6) -> 0.85132687\n",
      "(4, 9) -> 0.41703239\n",
      "(4, 6) -> 0.85132687\n",
      "(6, 7) -> 0.85132687\n",
      "(7, 9) -> 0.41703239\n",
      "(8, 9) -> 1.03836733\n"
     ]
    }
   ],
   "source": [
    "# Link prediction\n",
    "aai = nx.adamic_adar_index(G_d)\n",
    "\n",
    "for u, v, p in aai:\n",
    "    print('(%d, %d) -> %.8f' % (u, v, p))"
   ]
  },
  {
   "cell_type": "markdown",
   "metadata": {},
   "source": [
    "##### 2.4 Assosiation rule mining"
   ]
  },
  {
   "cell_type": "code",
   "execution_count": 40,
   "metadata": {},
   "outputs": [
    {
     "name": "stdout",
     "output_type": "stream",
     "text": [
      "['activates', 'activating', 'assist', 'backup', 'backup', 'based', 'command', 'command', 'command', 'control', 'controller', 'controller', 'controller', 'element', 'element', 'includes', 'including', 'including', 'initiation', 'initiation', 'input', 'input', 'input', 'instantaneous', 'management', 'management', 'mode', 'mode', 'mode', 'mode', 'outputting', 'position', 'receives', 'receives', 'rotary', 'rotary', 'rotatable', 'steering', 'steering', 'steering', 'terrain', 'terrain', 'trailer', 'trailer', 'vehicle', 'vehicle']\n"
     ]
    }
   ],
   "source": [
    "# Bucket 형태로 데이터 변환\n",
    "itemset = [[[vectorizer.get_feature_names()[idx]]*num for idx, num in enumerate(doc) if num != 0] for doc in TFM.toarray()]\n",
    "itemset = [sum(item, []) for item in itemset]\n",
    "print(itemset[0])"
   ]
  },
  {
   "cell_type": "code",
   "execution_count": 41,
   "metadata": {
    "scrolled": false
   },
   "outputs": [
    {
     "name": "stdout",
     "output_type": "stream",
     "text": [
      "    support                    itemsets\n",
      "0       0.3                      (axis)\n",
      "1       0.3                   (control)\n",
      "2       0.4                    (device)\n",
      "3       0.3                   (extends)\n",
      "4       0.6                  (includes)\n",
      "5       0.3                     (order)\n",
      "6       0.3                 (plurality)\n",
      "7       0.4                 (substrate)\n",
      "8       0.3             (extends, axis)\n",
      "9       0.3           (axis, plurality)\n",
      "10      0.3         (includes, control)\n",
      "11      0.3        (extends, plurality)\n",
      "12      0.3       (includes, substrate)\n",
      "13      0.3  (extends, axis, plurality)\n",
      "             antecedents           consequents  antecedent support  \\\n",
      "0              (extends)                (axis)                 0.3   \n",
      "1                 (axis)             (extends)                 0.3   \n",
      "2                 (axis)           (plurality)                 0.3   \n",
      "3            (plurality)                (axis)                 0.3   \n",
      "4             (includes)             (control)                 0.6   \n",
      "5              (control)            (includes)                 0.3   \n",
      "6              (extends)           (plurality)                 0.3   \n",
      "7            (plurality)             (extends)                 0.3   \n",
      "8             (includes)           (substrate)                 0.6   \n",
      "9            (substrate)            (includes)                 0.4   \n",
      "10       (extends, axis)           (plurality)                 0.3   \n",
      "11  (extends, plurality)                (axis)                 0.3   \n",
      "12     (axis, plurality)             (extends)                 0.3   \n",
      "13             (extends)     (axis, plurality)                 0.3   \n",
      "14                (axis)  (extends, plurality)                 0.3   \n",
      "15           (plurality)       (extends, axis)                 0.3   \n",
      "\n",
      "    consequent support  support  confidence      lift  leverage  conviction  \n",
      "0                  0.3      0.3        1.00  3.333333      0.21         inf  \n",
      "1                  0.3      0.3        1.00  3.333333      0.21         inf  \n",
      "2                  0.3      0.3        1.00  3.333333      0.21         inf  \n",
      "3                  0.3      0.3        1.00  3.333333      0.21         inf  \n",
      "4                  0.3      0.3        0.50  1.666667      0.12         1.4  \n",
      "5                  0.6      0.3        1.00  1.666667      0.12         inf  \n",
      "6                  0.3      0.3        1.00  3.333333      0.21         inf  \n",
      "7                  0.3      0.3        1.00  3.333333      0.21         inf  \n",
      "8                  0.4      0.3        0.50  1.250000      0.06         1.2  \n",
      "9                  0.6      0.3        0.75  1.250000      0.06         1.6  \n",
      "10                 0.3      0.3        1.00  3.333333      0.21         inf  \n",
      "11                 0.3      0.3        1.00  3.333333      0.21         inf  \n",
      "12                 0.3      0.3        1.00  3.333333      0.21         inf  \n",
      "13                 0.3      0.3        1.00  3.333333      0.21         inf  \n",
      "14                 0.3      0.3        1.00  3.333333      0.21         inf  \n",
      "15                 0.3      0.3        1.00  3.333333      0.21         inf  \n"
     ]
    }
   ],
   "source": [
    "from mlxtend.preprocessing import TransactionEncoder \n",
    "from mlxtend.frequent_patterns import apriori, association_rules\n",
    " \n",
    "encoder = TransactionEncoder()\n",
    "oht_ary = encoder.fit_transform(itemset)\n",
    "df = pd.DataFrame(oht_ary, columns=encoder.columns_)       \n",
    " \n",
    "frequent_itemsets = apriori(df, min_support=0.3, use_colnames=True)\n",
    "print (frequent_itemsets)\n",
    " \n",
    "rules = association_rules(frequent_itemsets, metric=\"lift\", min_threshold=1.2)\n",
    "print (rules)"
   ]
  },
  {
   "cell_type": "markdown",
   "metadata": {},
   "source": [
    "##### 2.5 Sentiment analysis"
   ]
  },
  {
   "cell_type": "code",
   "execution_count": 42,
   "metadata": {},
   "outputs": [
    {
     "name": "stdout",
     "output_type": "stream",
     "text": [
      "[nltk_data] Downloading package vader_lexicon to\n",
      "[nltk_data]     C:\\Users\\user\\AppData\\Roaming\\nltk_data...\n",
      "[nltk_data]   Package vader_lexicon is already up-to-date!\n"
     ]
    },
    {
     "data": {
      "text/plain": [
       "True"
      ]
     },
     "execution_count": 42,
     "metadata": {},
     "output_type": "execute_result"
    }
   ],
   "source": [
    "# VADER in NLTK (Valence Aware Dictionary and sEntiment Reasoner)\n",
    "import nltk\n",
    "nltk.download('vader_lexicon') # VADER는 사전기반의 감성분석 방법이라, 사전 다운로드가 필요함"
   ]
  },
  {
   "cell_type": "code",
   "execution_count": 43,
   "metadata": {},
   "outputs": [
    {
     "name": "stdout",
     "output_type": "stream",
     "text": [
      "{'neg': 0.0, 'neu': 1.0, 'pos': 0.0, 'compound': 0.0}\n",
      "{'neg': 0.014, 'neu': 0.986, 'pos': 0.0, 'compound': -0.0516}\n",
      "{'neg': 0.0, 'neu': 0.984, 'pos': 0.016, 'compound': 0.2023}\n",
      "{'neg': 0.12, 'neu': 0.88, 'pos': 0.0, 'compound': -0.9274}\n",
      "{'neg': 0.0, 'neu': 0.906, 'pos': 0.094, 'compound': 0.9014}\n",
      "{'neg': 0.0, 'neu': 0.982, 'pos': 0.018, 'compound': 0.3182}\n",
      "{'neg': 0.04, 'neu': 0.913, 'pos': 0.047, 'compound': -0.0772}\n",
      "{'neg': 0.0, 'neu': 0.939, 'pos': 0.061, 'compound': 0.6369}\n",
      "{'neg': 0.0, 'neu': 0.902, 'pos': 0.098, 'compound': 0.9393}\n",
      "{'neg': 0.038, 'neu': 0.924, 'pos': 0.038, 'compound': -0.0088}\n"
     ]
    }
   ],
   "source": [
    "from nltk.sentiment.vader import SentimentIntensityAnalyzer\n",
    "analyzer = SentimentIntensityAnalyzer()\n",
    "\n",
    "summary = {\"positive\":0,\"neutral\":0,\"negative\":0}\n",
    "for doc in sample_corpus: \n",
    "    print(analyzer.polarity_scores(doc))"
   ]
  }
 ],
 "metadata": {
  "kernelspec": {
   "display_name": "Python3.6+main",
   "language": "python",
   "name": "main"
  },
  "language_info": {
   "codemirror_mode": {
    "name": "ipython",
    "version": 3
   },
   "file_extension": ".py",
   "mimetype": "text/x-python",
   "name": "python",
   "nbconvert_exporter": "python",
   "pygments_lexer": "ipython3",
   "version": "3.6.8"
  }
 },
 "nbformat": 4,
 "nbformat_minor": 2
}
